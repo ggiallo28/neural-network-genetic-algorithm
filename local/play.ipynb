{
 "cells": [
  {
   "cell_type": "code",
   "execution_count": 1,
   "metadata": {},
   "outputs": [
    {
     "name": "stderr",
     "output_type": "stream",
     "text": [
      "/Users/gianluigimucciolo/anaconda3/lib/python3.6/site-packages/h5py/__init__.py:36: FutureWarning: Conversion of the second argument of issubdtype from `float` to `np.floating` is deprecated. In future, it will be treated as `np.float64 == np.dtype(float).type`.\n",
      "  from ._conv import register_converters as _register_converters\n",
      "Using TensorFlow backend.\n"
     ]
    }
   ],
   "source": [
    "import Arena\n",
    "from MCTS import MCTS\n",
    "\n",
    "from tictactoe.TicTacToeGame import TicTacToeGame as Game\n",
    "from tictactoe.keras.NNet import NNetWrapper as NNet\n",
    "from utils import *\n",
    "import numpy as np"
   ]
  },
  {
   "cell_type": "code",
   "execution_count": 2,
   "metadata": {},
   "outputs": [],
   "source": [
    "MODEL_FOLDER = './pretrained_models/tictactoe/'\n",
    "MODEL_NAME = 'padawan0.network'"
   ]
  },
  {
   "cell_type": "code",
   "execution_count": 3,
   "metadata": {},
   "outputs": [],
   "source": [
    "game = Game(3)\n",
    "nn = NNet(game)\n",
    "nn.load_checkpoint(MODEL_FOLDER,MODEL_NAME)\n",
    "args1 = dotdict({'numMCTSSims': 50, 'cpuct':1.0})\n",
    "mcts1 = MCTS(game, nn, args1)\n",
    "network = lambda x: np.argmax(mcts1.getActionProb(x, temp=0))"
   ]
  },
  {
   "cell_type": "code",
   "execution_count": 4,
   "metadata": {},
   "outputs": [],
   "source": [
    "def display(board, valids, currPlayer, init_board, base_api, message=None):\n",
    "    row,col = board.shape\n",
    "    moves = []\n",
    "    for i in range(len(valids)):\n",
    "        if valids[i]:\n",
    "            moves.append((int(i/row), int(i%col)))\n",
    "    html = '<table border=\"1\">'\n",
    "    for r in range(0,row):\n",
    "        html += '<tr>'\n",
    "        for c in range(0,col):\n",
    "            piece = board[r][c]\n",
    "            if piece == -1: html += '<th>{}</th>'.format(\"X\")\n",
    "            elif piece == 1: html += '<th>{}</th>'.format(\"O\")\n",
    "            else:\n",
    "                hfer = '----'\n",
    "                if (r,c) in moves:\n",
    "                    next_board = np.copy(board)\n",
    "                    next_board[r][c] = -1 #Player Simbol\n",
    "                    query = ','.join([str(e) for e in next_board.reshape(-1)]) + ',' + currPlayer\n",
    "                    hfer = '<a href=\"{}?board={}\">{}</a>'.format(base_api, query, hfer)\n",
    "                html += '<th>{}</th>'.format(hfer)               \n",
    "        html += '</tr>' \n",
    "    html += '</table>'\n",
    "    html += '<br>{}<br><a href=\"{}?board={}\">Start Over!</a>'.format(message, base_api, '{},{}'.format(init_board, currPlayer)) if message else \"\"\n",
    "    return html"
   ]
  },
  {
   "cell_type": "code",
   "execution_count": 17,
   "metadata": {},
   "outputs": [],
   "source": [
    "def playGame(board, init_board = '0,0,0,0,0,0,0,0,0', base_api = 'localhost'):\n",
    "    if len(board) == 0:\n",
    "        board = '{},N'.format(init_board)\n",
    "        \n",
    "    board = board.split(',') \n",
    "    currPlayer = board[-1]\n",
    "    board = np.array(board[:-1]).reshape(3,3).astype(int)\n",
    "  \n",
    "    status = game.getGameEnded(board, 1)\n",
    "    if status != 0:\n",
    "        message = \"You Lose\" if status == 1 else (\"You Win\" if status == -1 else \"Draw.\")\n",
    "        currPlayer = \"H\" if currPlayer == \"N\" else \"N\"\n",
    "        return display(board, [], currPlayer, init_board, base_api, message)\n",
    "\n",
    "    action = network(game.getCanonicalForm(board, 1))\n",
    "    valids = game.getValidMoves(game.getCanonicalForm(board, 1),1)\n",
    "    \n",
    "    if np.sum(board) == 0 and currPlayer == \"H\":\n",
    "        return display(board, valids, currPlayer, init_board, base_api)\n",
    "    \n",
    "    board, _ = game.getNextState(board, 1, action)                \n",
    "    valids = game.getValidMoves(game.getCanonicalForm(board, 1),1)\n",
    "    return display(board, valids, currPlayer, init_board, base_api)"
   ]
  },
  {
   "cell_type": "code",
   "execution_count": 6,
   "metadata": {},
   "outputs": [
    {
     "data": {
      "text/plain": [
       "'<table border=\"1\"><tr><th><a href=\"localhost?board=-1,0,0,0,1,0,0,0,0,N\">----</a></th><th><a href=\"localhost?board=0,-1,0,0,1,0,0,0,0,N\">----</a></th><th><a href=\"localhost?board=0,0,-1,0,1,0,0,0,0,N\">----</a></th></tr><tr><th><a href=\"localhost?board=0,0,0,-1,1,0,0,0,0,N\">----</a></th><th>O</th><th><a href=\"localhost?board=0,0,0,0,1,-1,0,0,0,N\">----</a></th></tr><tr><th><a href=\"localhost?board=0,0,0,0,1,0,-1,0,0,N\">----</a></th><th><a href=\"localhost?board=0,0,0,0,1,0,0,-1,0,N\">----</a></th><th><a href=\"localhost?board=0,0,0,0,1,0,0,0,-1,N\">----</a></th></tr></table>'"
      ]
     },
     "execution_count": 6,
     "metadata": {},
     "output_type": "execute_result"
    }
   ],
   "source": [
    "board = '0,0,0,0,0,0,0,0,0,N'\n",
    "playGame(board)"
   ]
  },
  {
   "cell_type": "code",
   "execution_count": 7,
   "metadata": {},
   "outputs": [
    {
     "data": {
      "text/plain": [
       "'<table border=\"1\"><tr><th>X</th><th><a href=\"localhost?board=-1,-1,1,0,1,0,0,0,0,N\">----</a></th><th>O</th></tr><tr><th><a href=\"localhost?board=-1,0,1,-1,1,0,0,0,0,N\">----</a></th><th>O</th><th><a href=\"localhost?board=-1,0,1,0,1,-1,0,0,0,N\">----</a></th></tr><tr><th><a href=\"localhost?board=-1,0,1,0,1,0,-1,0,0,N\">----</a></th><th><a href=\"localhost?board=-1,0,1,0,1,0,0,-1,0,N\">----</a></th><th><a href=\"localhost?board=-1,0,1,0,1,0,0,0,-1,N\">----</a></th></tr></table>'"
      ]
     },
     "execution_count": 7,
     "metadata": {},
     "output_type": "execute_result"
    }
   ],
   "source": [
    "board = '-1,0,0,0,1,0,0,0,0,N'\n",
    "playGame(board)"
   ]
  },
  {
   "cell_type": "code",
   "execution_count": 8,
   "metadata": {},
   "outputs": [
    {
     "data": {
      "text/plain": [
       "'<table border=\"1\"><tr><th>X</th><th><a href=\"localhost?board=-1,-1,1,0,1,0,1,-1,0,N\">----</a></th><th>O</th></tr><tr><th><a href=\"localhost?board=-1,0,1,-1,1,0,1,-1,0,N\">----</a></th><th>O</th><th><a href=\"localhost?board=-1,0,1,0,1,-1,1,-1,0,N\">----</a></th></tr><tr><th>O</th><th>X</th><th><a href=\"localhost?board=-1,0,1,0,1,0,1,-1,-1,N\">----</a></th></tr></table>'"
      ]
     },
     "execution_count": 8,
     "metadata": {},
     "output_type": "execute_result"
    }
   ],
   "source": [
    "board = '-1,0,1,0,1,0,0,-1,0,N'\n",
    "playGame(board)"
   ]
  },
  {
   "cell_type": "code",
   "execution_count": 9,
   "metadata": {},
   "outputs": [
    {
     "data": {
      "text/plain": [
       "'<table border=\"1\"><tr><th>X</th><th>----</th><th>O</th></tr><tr><th>X</th><th>O</th><th>----</th></tr><tr><th>O</th><th>X</th><th>----</th></tr></table><br>You Lose<br><a href=\"localhost?board=0,0,0,0,0,0,0,0,0,H\">Start Over!</a>'"
      ]
     },
     "execution_count": 9,
     "metadata": {},
     "output_type": "execute_result"
    }
   ],
   "source": [
    "board = '-1,0,1,-1,1,0,1,-1,0,N'\n",
    "playGame(board)"
   ]
  },
  {
   "cell_type": "code",
   "execution_count": 10,
   "metadata": {},
   "outputs": [
    {
     "data": {
      "text/plain": [
       "'<table border=\"1\"><tr><th><a href=\"localhost?board=-1,0,0,0,0,0,0,0,0,H\">----</a></th><th><a href=\"localhost?board=0,-1,0,0,0,0,0,0,0,H\">----</a></th><th><a href=\"localhost?board=0,0,-1,0,0,0,0,0,0,H\">----</a></th></tr><tr><th><a href=\"localhost?board=0,0,0,-1,0,0,0,0,0,H\">----</a></th><th><a href=\"localhost?board=0,0,0,0,-1,0,0,0,0,H\">----</a></th><th><a href=\"localhost?board=0,0,0,0,0,-1,0,0,0,H\">----</a></th></tr><tr><th><a href=\"localhost?board=0,0,0,0,0,0,-1,0,0,H\">----</a></th><th><a href=\"localhost?board=0,0,0,0,0,0,0,-1,0,H\">----</a></th><th><a href=\"localhost?board=0,0,0,0,0,0,0,0,-1,H\">----</a></th></tr></table>'"
      ]
     },
     "execution_count": 10,
     "metadata": {},
     "output_type": "execute_result"
    }
   ],
   "source": [
    "board = '0,0,0,0,0,0,0,0,0,H'\n",
    "playGame(board)"
   ]
  },
  {
   "cell_type": "code",
   "execution_count": 11,
   "metadata": {},
   "outputs": [
    {
     "data": {
      "text/plain": [
       "'<table border=\"1\"><tr><th>X</th><th><a href=\"localhost?board=-1,-1,0,0,1,0,0,0,0,H\">----</a></th><th><a href=\"localhost?board=-1,0,-1,0,1,0,0,0,0,H\">----</a></th></tr><tr><th><a href=\"localhost?board=-1,0,0,-1,1,0,0,0,0,H\">----</a></th><th>O</th><th><a href=\"localhost?board=-1,0,0,0,1,-1,0,0,0,H\">----</a></th></tr><tr><th><a href=\"localhost?board=-1,0,0,0,1,0,-1,0,0,H\">----</a></th><th><a href=\"localhost?board=-1,0,0,0,1,0,0,-1,0,H\">----</a></th><th><a href=\"localhost?board=-1,0,0,0,1,0,0,0,-1,H\">----</a></th></tr></table>'"
      ]
     },
     "execution_count": 11,
     "metadata": {},
     "output_type": "execute_result"
    }
   ],
   "source": [
    "board = '-1,0,0,0,0,0,0,0,0,H'\n",
    "playGame(board)"
   ]
  },
  {
   "cell_type": "code",
   "execution_count": 12,
   "metadata": {},
   "outputs": [
    {
     "data": {
      "text/plain": [
       "'<table border=\"1\"><tr><th>X</th><th><a href=\"localhost?board=-1,-1,1,0,1,-1,0,0,0,H\">----</a></th><th>O</th></tr><tr><th><a href=\"localhost?board=-1,0,1,-1,1,-1,0,0,0,H\">----</a></th><th>O</th><th>X</th></tr><tr><th><a href=\"localhost?board=-1,0,1,0,1,-1,-1,0,0,H\">----</a></th><th><a href=\"localhost?board=-1,0,1,0,1,-1,0,-1,0,H\">----</a></th><th><a href=\"localhost?board=-1,0,1,0,1,-1,0,0,-1,H\">----</a></th></tr></table>'"
      ]
     },
     "execution_count": 12,
     "metadata": {},
     "output_type": "execute_result"
    }
   ],
   "source": [
    "board = '-1,0,0,0,1,-1,0,0,0,H'\n",
    "playGame(board)"
   ]
  },
  {
   "cell_type": "code",
   "execution_count": 13,
   "metadata": {},
   "outputs": [
    {
     "data": {
      "text/plain": [
       "'<table border=\"1\"><tr><th>X</th><th><a href=\"localhost?board=-1,-1,1,1,1,-1,-1,0,0,H\">----</a></th><th>O</th></tr><tr><th>O</th><th>O</th><th>X</th></tr><tr><th>X</th><th><a href=\"localhost?board=-1,0,1,1,1,-1,-1,-1,0,H\">----</a></th><th><a href=\"localhost?board=-1,0,1,1,1,-1,-1,0,-1,H\">----</a></th></tr></table>'"
      ]
     },
     "execution_count": 13,
     "metadata": {},
     "output_type": "execute_result"
    }
   ],
   "source": [
    "board = '-1,0,1,0,1,-1,-1,0,0,H'\n",
    "playGame(board)"
   ]
  },
  {
   "cell_type": "code",
   "execution_count": 14,
   "metadata": {},
   "outputs": [
    {
     "data": {
      "text/plain": [
       "'<table border=\"1\"><tr><th>X</th><th><a href=\"localhost?board=-1,-1,1,1,1,-1,-1,-1,1,H\">----</a></th><th>O</th></tr><tr><th>O</th><th>O</th><th>X</th></tr><tr><th>X</th><th>X</th><th>O</th></tr></table>'"
      ]
     },
     "execution_count": 14,
     "metadata": {},
     "output_type": "execute_result"
    }
   ],
   "source": [
    "board = '-1,0,1,1,1,-1,-1,-1,0,H'\n",
    "playGame(board)"
   ]
  },
  {
   "cell_type": "code",
   "execution_count": 15,
   "metadata": {},
   "outputs": [
    {
     "data": {
      "text/plain": [
       "'<table border=\"1\"><tr><th>X</th><th>X</th><th>O</th></tr><tr><th>O</th><th>O</th><th>X</th></tr><tr><th>X</th><th>X</th><th>O</th></tr></table><br>Draw.<br><a href=\"localhost?board=0,0,0,0,0,0,0,0,0,N\">Start Over!</a>'"
      ]
     },
     "execution_count": 15,
     "metadata": {},
     "output_type": "execute_result"
    }
   ],
   "source": [
    "board = '-1,-1,1,1,1,-1,-1,-1,1,H'\n",
    "playGame(board)"
   ]
  },
  {
   "cell_type": "code",
   "execution_count": 16,
   "metadata": {},
   "outputs": [
    {
     "data": {
      "text/plain": [
       "'<table border=\"1\"><tr><th><a href=\"localhost?board=-1,0,0,0,1,0,0,0,0,N\">----</a></th><th><a href=\"localhost?board=0,-1,0,0,1,0,0,0,0,N\">----</a></th><th><a href=\"localhost?board=0,0,-1,0,1,0,0,0,0,N\">----</a></th></tr><tr><th><a href=\"localhost?board=0,0,0,-1,1,0,0,0,0,N\">----</a></th><th>O</th><th><a href=\"localhost?board=0,0,0,0,1,-1,0,0,0,N\">----</a></th></tr><tr><th><a href=\"localhost?board=0,0,0,0,1,0,-1,0,0,N\">----</a></th><th><a href=\"localhost?board=0,0,0,0,1,0,0,-1,0,N\">----</a></th><th><a href=\"localhost?board=0,0,0,0,1,0,0,0,-1,N\">----</a></th></tr></table>'"
      ]
     },
     "execution_count": 16,
     "metadata": {},
     "output_type": "execute_result"
    }
   ],
   "source": [
    "board = '0,0,0,0,0,0,0,0,0,N'\n",
    "playGame(board)"
   ]
  },
  {
   "cell_type": "code",
   "execution_count": null,
   "metadata": {},
   "outputs": [],
   "source": []
  }
 ],
 "metadata": {
  "kernelspec": {
   "display_name": "Python 3",
   "language": "python",
   "name": "python3"
  },
  "language_info": {
   "codemirror_mode": {
    "name": "ipython",
    "version": 3
   },
   "file_extension": ".py",
   "mimetype": "text/x-python",
   "name": "python",
   "nbconvert_exporter": "python",
   "pygments_lexer": "ipython3",
   "version": "3.6.4"
  }
 },
 "nbformat": 4,
 "nbformat_minor": 2
}
