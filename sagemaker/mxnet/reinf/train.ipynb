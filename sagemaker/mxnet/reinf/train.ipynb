{
 "cells": [
  {
   "cell_type": "code",
   "execution_count": 1,
   "metadata": {},
   "outputs": [],
   "source": [
    "#!/usr/bin/env python\n",
    "\n",
    "from Coach import Coach\n",
    "from games.tictactoe.TicTacToeGame import TicTacToeGame as Game\n",
    "from games.tictactoe.mxnet.NNet import NNetWrapper as nn\n",
    "from utils import *\n",
    "import numpy\n",
    "import GA\n",
    "from random import shuffle\n",
    "import math\n",
    "import os\n",
    "\n",
    "train_examples_file_name = \"checkpoint.examples\"\n",
    "\n",
    "# These are the paths to where SageMaker mounts interesting things in your container.\n",
    "\n",
    "prefix = '/opt/ml/'\n",
    "channel_name='training'\n",
    "model_path = os.path.join(prefix, 'model')\n",
    "param_path = os.path.join(prefix, 'io/config/hyperparameters.json')\n",
    "input_path = output_path = os.path.join(prefix + 'io/data', channel_name)\n",
    "\n",
    "# Read in any hyperparameters that the user passed with the training job\n",
    "if os.path.isfile(param_path):\n",
    "    with open(param_path, 'r') as tc:\n",
    "        args = dotdict(json.load(tc))\n",
    "\n",
    "args = dotdict({\n",
    "    'numIters': 2,\n",
    "    'numEps': 20,\n",
    "    'tempThreshold': 15,\n",
    "    'updateThreshold': 0.6,\n",
    "    'maxlenOfQueue': 200000,\n",
    "    'numMCTSSims': 25,\n",
    "    'arenaCompare': 4,\n",
    "    'cpuct': 1,\n",
    "\n",
    "    'checkpoint': './temp/',\n",
    "    'load_model': False,\n",
    "    'load_folder_file': ('/dev/models/8x100x50','best.pth.tar'),\n",
    "    'numItersForTrainExamplesHistory': 7,\n",
    "})"
   ]
  },
  {
   "cell_type": "code",
   "execution_count": 2,
   "metadata": {},
   "outputs": [],
   "source": [
    "sol_per_pop = 6\n",
    "num_parents = 3\n",
    "num_generations = 20\n",
    "\n",
    "\"\"\"\n",
    "Creating the initial population.\n",
    "    Generate population from scratch if there is no checkpoint,\n",
    "    or load population from file.\n",
    "\"\"\"\n",
    "#\n",
    "input_model_files = [ [model_path, file] for file in os.listdir(model_path) ]\n",
    "input_model_files.sort()\n",
    "game = Game()"
   ]
  },
  {
   "cell_type": "code",
   "execution_count": 3,
   "metadata": {},
   "outputs": [],
   "source": [
    "#from games.tictactoe.mxnet.TicTacToeNNet import TicTacToeNNet as onnet\n",
    "#args2 = dotdict({\n",
    "#    'lr': 0.001,\n",
    "#    'dropout': 0.3,\n",
    "#    'epochs': 1,\n",
    "#    'batch_size': 64,\n",
    "#    'cuda': False,\n",
    "#    'num_channels': 512,\n",
    "#})\n",
    "#z = onnet(game, args2)\n",
    "#from mxnet import nd\n",
    "#z.predict(nd.zeros((1,1,3,3)))"
   ]
  },
  {
   "cell_type": "code",
   "execution_count": 4,
   "metadata": {},
   "outputs": [],
   "source": [
    "new_population = []\n",
    "if len(input_model_files) == 0:\n",
    "    for i in range(0,sol_per_pop):\n",
    "        new_population.append(nn(game))\n",
    "else:\n",
    "    print(\"Checkpoint File found. Read it.\")\n",
    "    sol_per_pop = len(input_model_files)\n",
    "    for load_model_file in input_model_files:\n",
    "        print(os.path.join(load_model_file[0], load_model_file[1]))\n",
    "        nnet = nn(game)\n",
    "        nnet.load_checkpoint(load_model_file[0], load_model_file[1])\n",
    "        new_population.append(nnet)"
   ]
  },
  {
   "cell_type": "code",
   "execution_count": 5,
   "metadata": {},
   "outputs": [],
   "source": [
    "\"\"\"\n",
    "Creating Coach class used to generate Training Example\n",
    "    Load Train Example History if exist\n",
    "\"\"\"\n",
    "master = Coach(Game(), args)\n",
    "examples_file_path = os.path.join(input_path, train_examples_file_name)\n",
    "if os.path.isfile(examples_file_path) :\n",
    "    print(os.path.join(examples_file_path))\n",
    "    master.loadTrainExamples(examples_file_path)\n",
    "alpha_index = 0\n",
    "\"\"\"\n",
    "Start Genetic Algorithm\n",
    "\"\"\"\n",
    "ancestors = list(range(0,sol_per_pop))"
   ]
  },
  {
   "cell_type": "code",
   "execution_count": 6,
   "metadata": {},
   "outputs": [],
   "source": [
    "#from games.tictactoe.TicTacToeLogic import Board\n",
    "#Board(3)[0][0][0].asscalar()==0"
   ]
  },
  {
   "cell_type": "code",
   "execution_count": 7,
   "metadata": {},
   "outputs": [],
   "source": [
    "#board = game.getInitBoard()\n",
    "#print(board)\n",
    "#print(board.dtype)"
   ]
  },
  {
   "cell_type": "code",
   "execution_count": 8,
   "metadata": {},
   "outputs": [],
   "source": [
    "#Ps,v = z.predict(board)\n",
    "#valids = game.getValidMoves(board, 1)\n",
    "#Ps = Ps*valids  \n",
    "#import numpy as np\n",
    "#print(np.sum(Ps.asnumpy()))\n",
    "#from mxnet import nd\n",
    "#print(nd.sum(Ps))\n",
    "#for a in range(game.getActionSize()):\n",
    "#    print(a)"
   ]
  },
  {
   "cell_type": "code",
   "execution_count": 9,
   "metadata": {},
   "outputs": [],
   "source": [
    "#def flipud(x):\n",
    "#    return nd.flip(data=x, axis=0)\n",
    "#\n",
    "#def fliplr(x):\n",
    "#    return nd.flip(data=x, axis=1)\n",
    "#\n",
    "#def rot90(x, k):\n",
    "#    k = k%4\n",
    "#    if k == 0:\n",
    "#        return x\n",
    "#    if k == 1:\n",
    "#        y = flipud(nd.transpose(x,axes=(0,1,2)))\n",
    "#    if k == 2:\n",
    "#        y = flipud(fliplr(x))\n",
    "#    if k == 3:\n",
    "#        y = nd.transpose(flipud(x),axes=(0,1,2))\n",
    "#    return y\n",
    "#\n",
    "#pi = nd.array([0.,0.125,0.16666667,0.08333334,0.08333334,0.125,0.08333334,0.16666667,0.16666667,0.])\n",
    "##pi_board = nd.random.uniform(shape=(3,3))\n",
    "##pi_numpy = pi_board.asnumpy()\n",
    "##k = 3\n",
    "##print(pi_board)\n",
    "##print(\"NDArray\")\n",
    "##rnd = rot90(pi_board,k)\n",
    "##print(rnd.asnumpy())\n",
    "##print(rnd.reshape((9)))\n",
    "##print(\"Numpy\")\n",
    "##rnu = np.rot90(pi_numpy,k)\n",
    "##print(rnu)\n",
    "##print(rnu.ravel())\n",
    "#\n",
    "##nd.concat(rnd.reshape((9)), pi[-1], dim=0)\n",
    "#\n",
    "#def getSymmetries(board, pi):\n",
    "#    # mirror, rotational\n",
    "#    assert(len(pi) == 3**2+1)  # 1 for pass\n",
    "#    pi_board = nd.reshape(pi[:-1], (1, 3, 3))\n",
    "#    \n",
    "#    l = []\n",
    "#\n",
    "#    for i in range(1, 5):\n",
    "#        for j in [True, False]:\n",
    "#            newB = rot90(board, i)\n",
    "#            newPi = rot90(pi_board, i)\n",
    "#            if j:\n",
    "#                newB = fliplr(newB)\n",
    "#                newPi = fliplr(newPi)\n",
    "#            l += [(newB, nd.concat(newPi.reshape((9)), pi[-1], dim=0))]\n",
    "#    return l\n",
    "#    \n",
    "#newB = nd.random.uniform(shape=(1,3,3))\n",
    "#fliplr(newB)\n",
    "#\n",
    "#board = nd.zeros((1,1,3,3))\n",
    "#sym = getSymmetries(board[0], pi)\n",
    "#sym[0][1].dtype"
   ]
  },
  {
   "cell_type": "code",
   "execution_count": 10,
   "metadata": {},
   "outputs": [],
   "source": [
    "#print(board)\n",
    "#nd.transpose(board,axes=(0,1,2,3))"
   ]
  },
  {
   "cell_type": "code",
   "execution_count": 11,
   "metadata": {},
   "outputs": [
    {
     "name": "stdout",
     "output_type": "stream",
     "text": [
      "Generate Train Examples in 20 Eps Time: 5.027s | Total: 100.55s\n"
     ]
    }
   ],
   "source": [
    "alpha_padawan = new_population[alpha_index]\n",
    "train_examples = master.generate(alpha_padawan)"
   ]
  },
  {
   "cell_type": "code",
   "execution_count": 12,
   "metadata": {},
   "outputs": [],
   "source": [
    "#from mxnet import nd, gpu, gluon, init, autograd\n",
    "#input_boards, target_pis, target_vs = list(zip(*train_examples))\n",
    "#dataset_train = gluon.data.dataset.ArrayDataset(input_boards, target_pis, target_vs)\n",
    "#data_loader = gluon.data.DataLoader(dataset_train,batch_size=64,shuffle=True,num_workers=4)"
   ]
  },
  {
   "cell_type": "code",
   "execution_count": 13,
   "metadata": {},
   "outputs": [],
   "source": [
    "#for input_board, target_pi, target_v in data_loader:\n",
    "#    print(input_board.shape)\n",
    "#    pi,v = z.predict(input_board)\n",
    "#        \n",
    "#    print(\"Input Board Dtype: \", input_board.dtype)\n",
    "#    print(\"Output Pis Dtype: \", pi.dtype)\n",
    "#    print(\"Output Vs Dtype: \", target_pi.dtype)\n",
    "#    print(\"Target Pis Dtype: \", pi.dtype)\n",
    "#    print(\"Target Vs Dtype: \", target_v.dtype)\n",
    "#    \n",
    "#    print(target_pi.shape, \" = \", pi.shape)\n",
    "#    print(target_v.shape, \" = \", v.shape)\n",
    "#\n",
    "#    v_loss = z.v_loss(target_v,v) \n",
    "#    pi_loss = z.pi_loss(target_pi,pi)\n",
    "#    loss = pi_loss + v_loss\n",
    "#    print(loss)\n",
    "#    break"
   ]
  },
  {
   "cell_type": "code",
   "execution_count": 14,
   "metadata": {},
   "outputs": [],
   "source": [
    "#z.pi_loss(nd.zeros((3,3)),nd.ones((3,3)))"
   ]
  },
  {
   "cell_type": "code",
   "execution_count": 15,
   "metadata": {},
   "outputs": [
    {
     "name": "stdout",
     "output_type": "stream",
     "text": [
      "------ Padawan 0: 0x1097a4a90 ------\n",
      "------ Padawan 1: 0x11de9e400 ------\n",
      "------ Padawan 2: 0x11decd550 ------\n",
      "------ Padawan 3: 0x122eee588 ------\n",
      "------ Padawan 4: 0x1255281d0 ------\n",
      "------ Padawan 5: 0x125558080 ------\n"
     ]
    }
   ],
   "source": [
    "master.train(new_population, train_examples)"
   ]
  },
  {
   "cell_type": "code",
   "execution_count": 16,
   "metadata": {},
   "outputs": [
    {
     "name": "stdout",
     "output_type": "stream",
     "text": [
      "Prove your value Padawans!\n",
      "P0/P1 WINS : 1 / 2 ; DRAWS : 1 | Time 23.83s\n",
      "P0/P2 WINS : 1 / 2 ; DRAWS : 1 | Time 8.41s\n",
      "P0/P3 WINS : 4 / 0 ; DRAWS : 0 | Time 7.35s\n",
      "P0/P4 WINS : 2 / 2 ; DRAWS : 0 | Time 7.33s\n",
      "P0/P5 WINS : 2 / 1 ; DRAWS : 1 | Time 11.66s\n",
      "P1/P0 WINS : 2 / 2 ; DRAWS : 0 | Time 9.12s\n",
      "P1/P2 WINS : 2 / 1 ; DRAWS : 1 | Time 9.29s\n",
      "P1/P3 WINS : 2 / 1 ; DRAWS : 1 | Time 9.1s\n",
      "P1/P4 WINS : 2 / 1 ; DRAWS : 1 | Time 8.53s\n",
      "P1/P5 WINS : 4 / 0 ; DRAWS : 0 | Time 9.63s\n",
      "P2/P0 WINS : 4 / 0 ; DRAWS : 0 | Time 8.08s\n",
      "P2/P1 WINS : 1 / 2 ; DRAWS : 1 | Time 8.04s\n",
      "P2/P3 WINS : 2 / 2 ; DRAWS : 0 | Time 7.15s\n",
      "P2/P4 WINS : 2 / 1 ; DRAWS : 1 | Time 8.36s\n",
      "P2/P5 WINS : 2 / 2 ; DRAWS : 0 | Time 9.47s\n",
      "P3/P0 WINS : 0 / 3 ; DRAWS : 1 | Time 10.03s\n",
      "P3/P1 WINS : 2 / 2 ; DRAWS : 0 | Time 7.96s\n",
      "P3/P2 WINS : 2 / 2 ; DRAWS : 0 | Time 9.34s\n",
      "P3/P4 WINS : 2 / 2 ; DRAWS : 0 | Time 7.59s\n",
      "P3/P5 WINS : 3 / 1 ; DRAWS : 0 | Time 9.66s\n",
      "P4/P0 WINS : 0 / 3 ; DRAWS : 1 | Time 9.55s\n",
      "P4/P1 WINS : 2 / 2 ; DRAWS : 0 | Time 9.69s\n",
      "P4/P2 WINS : 2 / 2 ; DRAWS : 0 | Time 7.0s\n",
      "P4/P3 WINS : 2 / 2 ; DRAWS : 0 | Time 6.92s\n",
      "P4/P5 WINS : 3 / 0 ; DRAWS : 1 | Time 8.67s\n",
      "P5/P0 WINS : 0 / 2 ; DRAWS : 2 | Time 8.86s\n",
      "P5/P1 WINS : 0 / 4 ; DRAWS : 0 | Time 8.9s\n",
      "P5/P2 WINS : 0 / 0 ; DRAWS : 4 | Time 10.67s\n",
      "P5/P3 WINS : 3 / 1 ; DRAWS : 0 | Time 9.07s\n",
      "P5/P4 WINS : 1 / 1 ; DRAWS : 2 | Time 9.68s\n"
     ]
    }
   ],
   "source": [
    "fitness = GA.cal_pop_fitness(new_population, args)"
   ]
  },
  {
   "cell_type": "code",
   "execution_count": 17,
   "metadata": {},
   "outputs": [],
   "source": [
    "parents, indices = GA.select_mating_pool(new_population, fitness, num_parents)"
   ]
  },
  {
   "cell_type": "code",
   "execution_count": 18,
   "metadata": {},
   "outputs": [],
   "source": [
    "#parents, indices"
   ]
  },
  {
   "cell_type": "code",
   "execution_count": 19,
   "metadata": {},
   "outputs": [],
   "source": [
    "#net = onnet(game, args2)"
   ]
  },
  {
   "cell_type": "code",
   "execution_count": 20,
   "metadata": {},
   "outputs": [],
   "source": [
    "#pdict = net.model.collect_params()\n",
    "#pkeys = pdict.keys()\n",
    "#for k in pkeys:\n",
    "#    pdict[k].set_data(pdict[k].data())"
   ]
  },
  {
   "cell_type": "code",
   "execution_count": 21,
   "metadata": {},
   "outputs": [],
   "source": [
    "#from mxnet import gluon\n",
    "#import random\n",
    "#\n",
    "#baby_net = onnet(game, args2)\n",
    "#\n",
    "#parents_params = [ p.nnet.model.collect_params() for p in parents ]\n",
    "#num_keys = len(parents_params[0].keys())\n",
    "#\n",
    "#male = parents_params[0] \n",
    "#female = parents_params[1]\n",
    "#baby = baby_net.model.collect_params()\n",
    "#\n",
    "#multiplier=0.10\n",
    "#mutation_propability=0.05\n",
    "#\n",
    "#baby_data = {}\n",
    "#for m,f,b in zip(male.keys(),female.keys(),baby.keys()):   \n",
    "#    male_data = male[m].data()\n",
    "#    female_data = female[f].data()\n",
    "#    one = nd.ones(male_data.shape)\n",
    "#    alpha = nd.random.uniform(shape=female_data.shape)\n",
    "#    baby_data[b] = (one-alpha)*male_data + alpha*female_data \n",
    "#    \n",
    "#    neg = nd.array(numpy.random.binomial(1, mutation_propability, baby_data[b].shape))\n",
    "#    pos = nd.array(numpy.random.binomial(1, mutation_propability, baby_data[b].shape))\n",
    "#    sign = (pos-neg)\n",
    "#\n",
    "#    baby_data[b] = baby_data[b] + sign*baby_data[b]*multiplier\n",
    "#    \n",
    "#    baby[b].set_data(baby_data[b])"
   ]
  },
  {
   "cell_type": "code",
   "execution_count": 22,
   "metadata": {},
   "outputs": [],
   "source": [
    "#a = onnet(game, args2)\n",
    "#b = onnet(game, args2)\n",
    "#print(a.predict(nd.zeros((1,1,3,3))))\n",
    "#print(b.predict(nd.zeros((1,1,3,3))))\n",
    "#\n",
    "#adict = a.model.collect_params()\n",
    "#bdict = b.model.collect_params()\n",
    "#\n",
    "#for xx,yy in zip(adict.keys(), bdict.keys()):\n",
    "#    adict[xx].set_data(bdict[yy].data())\n",
    "#    \n",
    "#print(a.predict(nd.zeros((1,1,3,3))))\n",
    "#print(b.predict(nd.zeros((1,1,3,3))))"
   ]
  },
  {
   "cell_type": "code",
   "execution_count": 23,
   "metadata": {},
   "outputs": [],
   "source": [
    "#def cross(male, female):\n",
    "#    pdict_male = male.nnet.model.collect_params()\n",
    "#    pdict_female = female.nnet.model.collect_params()\n",
    "#        \n",
    "#    baby = nn(game)\n",
    "#    pdict_baby = baby.nnet.model.collect_params()\n",
    "#    \n",
    "#    \n",
    "#    for m,f,b in zip(pdict_male.keys(),pdict_female.keys(),pdict_baby.keys()):\n",
    "#        male_data = pdict_male[m].data()\n",
    "#        female_data = pdict_female[f].data()  \n",
    "#        onesm = nd.ones(male_data.shape)\n",
    "#        alpha = nd.random.uniform(shape=female_data.shape)       \n",
    "#        pdict_baby[b].set_data((onesm-alpha)*male_data + alpha*female_data)\n",
    "#        \n",
    "#    print('Mating Crossover. Baby:',baby.name,'= Male:',male.name,'& Female:',female.name)\n",
    "#    return baby"
   ]
  },
  {
   "cell_type": "code",
   "execution_count": 24,
   "metadata": {},
   "outputs": [],
   "source": [
    "#def crossover(parents, offspring_size):\n",
    "#    babies = [0]*offspring_size\n",
    "#\n",
    "#    mating_arena = list(range(offspring_size))\n",
    "#    shuffle(mating_arena)\n",
    "#    \n",
    "#    for k in mating_arena:\n",
    "#        # Index of the parents to mate.\n",
    "#        male_idx = k%len(parents)\n",
    "#        female_idx = (k+1)%len(parents)\n",
    "#        # Get Parents\n",
    "#        male = parents[male_idx]\n",
    "#        female = parents[female_idx]\n",
    "#\n",
    "#        # The new offspring will take genes from both parents\n",
    "#        babies[k] = cross(male, female)\n",
    "#        \n",
    "#    return babies"
   ]
  },
  {
   "cell_type": "code",
   "execution_count": 25,
   "metadata": {},
   "outputs": [],
   "source": [
    "#offspring_crossover = crossover(parents, offspring_size=3)"
   ]
  },
  {
   "cell_type": "code",
   "execution_count": 26,
   "metadata": {},
   "outputs": [
    {
     "name": "stdout",
     "output_type": "stream",
     "text": [
      "Mating Crossover. Baby: 0x107ffc240 = Male: 0x1097a4a90 & Female: 0x11decd550\n",
      "Mating Crossover. Baby: 0x1367c8cc0 = Male: 0x11decd550 & Female: 0x11de9e400\n",
      "Mating Crossover. Baby: 0x1367b80f0 = Male: 0x11de9e400 & Female: 0x1097a4a90\n"
     ]
    }
   ],
   "source": [
    "offspring_crossover = GA.crossover(parents, sol_per_pop-num_parents, nn)"
   ]
  },
  {
   "cell_type": "code",
   "execution_count": 27,
   "metadata": {},
   "outputs": [],
   "source": [
    "#def mutate(baby, mutation_propability, multiplier=0.10):\n",
    "#    pdict_baby = baby.nnet.model.collect_params()\n",
    "#\n",
    "#    for k in pdict_baby.keys():\n",
    "#        baby_data = pdict_baby[k].data()\n",
    "#\n",
    "#        neg = nd.array(numpy.random.binomial(1, mutation_propability, baby_data.shape))\n",
    "#        pos = nd.array(numpy.random.binomial(1, mutation_propability, baby_data.shape))\n",
    "#        sign = (pos-neg)\n",
    "#\n",
    "#        baby_data = baby_data + sign*baby_data*multiplier\n",
    "#        pdict_baby[k].set_data(baby_data)\n",
    "#    return baby"
   ]
  },
  {
   "cell_type": "code",
   "execution_count": 28,
   "metadata": {},
   "outputs": [],
   "source": [
    "#from random import shuffle, randint\n",
    "#def mutation(offspring_crossover, mutation_propability=0.05, multiplier=0.10):\n",
    "#    # Mutation genes in each offspring randomly.\n",
    "#    for idx in range(len(offspring_crossover)):\n",
    "#        if(randint(0, 1) == 0):\n",
    "#            print('Matate Baby:',offspring_crossover[idx].name)\n",
    "#            mutate(offspring_crossover[idx], mutation_propability, multiplier)\n",
    "#    return offspring_crossover"
   ]
  },
  {
   "cell_type": "code",
   "execution_count": 29,
   "metadata": {},
   "outputs": [],
   "source": [
    "#print(offspring_crossover[0].predict(nd.zeros((1,1,3,3))))\n",
    "#offspring_mutation = mutation(offspring_crossover)\n",
    "#print(offspring_crossover[0].predict(nd.zeros((1,1,3,3))))\n",
    "#print(offspring_crossover)"
   ]
  },
  {
   "cell_type": "code",
   "execution_count": 30,
   "metadata": {},
   "outputs": [],
   "source": [
    "offspring_mutation = GA.mutation(offspring_crossover)"
   ]
  },
  {
   "cell_type": "code",
   "execution_count": 31,
   "metadata": {},
   "outputs": [],
   "source": [
    "#offspring_mutation"
   ]
  },
  {
   "cell_type": "code",
   "execution_count": 33,
   "metadata": {},
   "outputs": [],
   "source": [
    "new_population[0:num_parents] = parents\n",
    "new_population[num_parents:] = offspring_mutation"
   ]
  },
  {
   "cell_type": "code",
   "execution_count": null,
   "metadata": {},
   "outputs": [],
   "source": [
    "#new_population"
   ]
  },
  {
   "cell_type": "code",
   "execution_count": 34,
   "metadata": {},
   "outputs": [
    {
     "name": "stdout",
     "output_type": "stream",
     "text": [
      "Save Checkpoint\n",
      "Checkpoint Directory exists! \n",
      "Checkpoint Directory exists! \n",
      "Checkpoint Directory exists! \n",
      "Checkpoint Directory exists! \n",
      "Checkpoint Directory exists! \n",
      "Checkpoint Directory exists! \n",
      "Save Train Examples\n"
     ]
    }
   ],
   "source": [
    "# Save Current State\n",
    "print(\"Save Checkpoint\")\n",
    "new_population[0].save_checkpoint(model_path, 'alpha.network')\n",
    "for iidx, nnet in enumerate(new_population[1:]):\n",
    "    nnet.save_checkpoint(model_path, 'beta{}.network'.format(iidx))\n",
    "print(\"Save Train Examples\")\n",
    "master.saveTrainExamples(output_path, train_examples_file_name)"
   ]
  },
  {
   "cell_type": "code",
   "execution_count": 46,
   "metadata": {},
   "outputs": [
    {
     "name": "stdout",
     "output_type": "stream",
     "text": [
      "Generation : 0 | Best result : 1.4044188261032104 | Ancestors [1, 0, 2]\n",
      ">Alpha Padawan  0x11de9e400\n",
      "Senior Padawan  0x1097a4a90\n",
      "Senior Padawan  0x11decd550\n",
      "Junior Padawan  0x1367b80f0\n",
      "Junior Padawan  0x107ffc240\n",
      "Junior Padawan  0x1367c8cc0\n"
     ]
    }
   ],
   "source": [
    "generation = 0\n",
    "# Print current results\n",
    "lossness = [min(p.get_loss()) for p in parents]\n",
    "ancestors = [indices.index(i) for i in set(ancestors).intersection(indices)]\n",
    "print(\"Generation : {} | Best result : {} | Ancestors {}\".format(generation, min(lossness).asscalar(), ancestors) )\n",
    "print('>Alpha Padawan ', parents[0].name)\n",
    "for m in parents[1:]:\n",
    "    print('Senior Padawan ', m.name)\n",
    "for m in offspring_mutation:\n",
    "    print('Junior Padawan ', m.name)\n",
    "#args.arenaCompare = args.arenaCompare + int(math.sqrt(generation))\n",
    "if (len(ancestors) == 0):\n",
    "    print(\"All ancestors are dead, generating..\")\n",
    "    ancestors = list(range(0,num_parents))\n",
    "alpha_index = 0"
   ]
  },
  {
   "cell_type": "code",
   "execution_count": 1,
   "metadata": {},
   "outputs": [
    {
     "ename": "ModuleNotFoundError",
     "evalue": "No module named 'mcts'",
     "output_type": "error",
     "traceback": [
      "\u001b[0;31m---------------------------------------------------------------------------\u001b[0m",
      "\u001b[0;31mModuleNotFoundError\u001b[0m                       Traceback (most recent call last)",
      "\u001b[0;32m<ipython-input-1-f2d83d61555c>\u001b[0m in \u001b[0;36m<module>\u001b[0;34m()\u001b[0m\n\u001b[0;32m----> 1\u001b[0;31m \u001b[0;32mfrom\u001b[0m \u001b[0mmcts\u001b[0m \u001b[0;32mimport\u001b[0m \u001b[0mmcts\u001b[0m\u001b[0;34m\u001b[0m\u001b[0m\n\u001b[0m\u001b[1;32m      2\u001b[0m \u001b[0;34m\u001b[0m\u001b[0m\n\u001b[1;32m      3\u001b[0m \u001b[0mmcts\u001b[0m \u001b[0;34m=\u001b[0m \u001b[0mmcts\u001b[0m\u001b[0;34m(\u001b[0m\u001b[0mtimeLimit\u001b[0m\u001b[0;34m=\u001b[0m\u001b[0;36m1000\u001b[0m\u001b[0;34m)\u001b[0m\u001b[0;34m\u001b[0m\u001b[0m\n\u001b[1;32m      4\u001b[0m \u001b[0mbestAction\u001b[0m \u001b[0;34m=\u001b[0m \u001b[0mmcts\u001b[0m\u001b[0;34m.\u001b[0m\u001b[0msearch\u001b[0m\u001b[0;34m(\u001b[0m\u001b[0minitialState\u001b[0m\u001b[0;34m=\u001b[0m\u001b[0minitialState\u001b[0m\u001b[0;34m)\u001b[0m\u001b[0;34m\u001b[0m\u001b[0m\n",
      "\u001b[0;31mModuleNotFoundError\u001b[0m: No module named 'mcts'"
     ]
    }
   ],
   "source": [
    "from mcts import mcts\n",
    "\n",
    "mcts = mcts(timeLimit=1000)\n",
    "bestAction = mcts.search(initialState=initialState)"
   ]
  },
  {
   "cell_type": "code",
   "execution_count": null,
   "metadata": {},
   "outputs": [],
   "source": []
  }
 ],
 "metadata": {
  "kernelspec": {
   "display_name": "Python 3",
   "language": "python",
   "name": "python3"
  },
  "language_info": {
   "codemirror_mode": {
    "name": "ipython",
    "version": 3
   },
   "file_extension": ".py",
   "mimetype": "text/x-python",
   "name": "python",
   "nbconvert_exporter": "python",
   "pygments_lexer": "ipython3",
   "version": "3.6.7"
  }
 },
 "nbformat": 4,
 "nbformat_minor": 2
}
