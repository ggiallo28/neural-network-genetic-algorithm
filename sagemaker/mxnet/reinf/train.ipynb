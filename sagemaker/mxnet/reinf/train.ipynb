{
 "cells": [
  {
   "cell_type": "code",
   "execution_count": 1,
   "metadata": {},
   "outputs": [],
   "source": [
    "#!/usr/bin/env python\n",
    "\n",
    "from Coach import Coach\n",
    "from games.tictactoe.TicTacToeGame import TicTacToeGame as Game\n",
    "from games.tictactoe.mxnet.NNet import NNetWrapper as nn\n",
    "from utils import *\n",
    "import numpy\n",
    "import GA\n",
    "from random import shuffle\n",
    "import math\n",
    "import os\n",
    "\n",
    "train_examples_file_name = \"checkpoint.examples\"\n",
    "\n",
    "# These are the paths to where SageMaker mounts interesting things in your container.\n",
    "\n",
    "prefix = '/opt/ml/'\n",
    "channel_name='training'\n",
    "model_path = os.path.join(prefix, 'model')\n",
    "param_path = os.path.join(prefix, 'io/config/hyperparameters.json')\n",
    "input_path = output_path = os.path.join(prefix + 'io/data', channel_name)\n",
    "\n",
    "# Read in any hyperparameters that the user passed with the training job\n",
    "if os.path.isfile(param_path):\n",
    "    with open(param_path, 'r') as tc:\n",
    "        args = dotdict(json.load(tc))\n",
    "\n",
    "args = dotdict({\n",
    "    'numIters': 2,\n",
    "    'numEps': 20,\n",
    "    'tempThreshold': 15,\n",
    "    'updateThreshold': 0.6,\n",
    "    'maxlenOfQueue': 200000,\n",
    "    'numMCTSSims': 25,\n",
    "    'arenaCompare': 4,\n",
    "    'cpuct': 1,\n",
    "\n",
    "    'checkpoint': './temp/',\n",
    "    'load_model': False,\n",
    "    'load_folder_file': ('/dev/models/8x100x50','best.pth.tar'),\n",
    "    'numItersForTrainExamplesHistory': 7,\n",
    "})"
   ]
  },
  {
   "cell_type": "code",
   "execution_count": 2,
   "metadata": {},
   "outputs": [],
   "source": [
    "sol_per_pop = 6\n",
    "num_parents = 3\n",
    "num_generations = 20\n",
    "\n",
    "\"\"\"\n",
    "Creating the initial population.\n",
    "    Generate population from scratch if there is no checkpoint,\n",
    "    or load population from file.\n",
    "\"\"\"\n",
    "#\n",
    "input_model_files = [ [model_path, file] for file in os.listdir(model_path) ]\n",
    "input_model_files.sort()\n",
    "game = Game()"
   ]
  },
  {
   "cell_type": "code",
   "execution_count": 3,
   "metadata": {},
   "outputs": [
    {
     "data": {
      "text/plain": [
       "(\n",
       " [[0.28732005 0.88008714 1.0076691  0.7825768  0.31865382 1.0440212\n",
       "   0.3939152  1.1920686  1.2976027  1.2683628 ]]\n",
       " <NDArray 1x10 @cpu(0)>, \n",
       " [[-0.7818425]]\n",
       " <NDArray 1x1 @cpu(0)>)"
      ]
     },
     "execution_count": 3,
     "metadata": {},
     "output_type": "execute_result"
    }
   ],
   "source": [
    "from games.tictactoe.mxnet.TicTacToeNNet import TicTacToeNNet as onnet\n",
    "args2 = dotdict({\n",
    "    'lr': 0.001,\n",
    "    'dropout': 0.3,\n",
    "    'epochs': 1,\n",
    "    'batch_size': 64,\n",
    "    'cuda': False,\n",
    "    'num_channels': 512,\n",
    "})\n",
    "z = onnet(game, args2)\n",
    "from mxnet import nd\n",
    "z.predict(nd.zeros((1,1,3,3)))"
   ]
  },
  {
   "cell_type": "code",
   "execution_count": 4,
   "metadata": {},
   "outputs": [],
   "source": [
    "new_population = []\n",
    "if len(input_model_files) == 0:\n",
    "    for i in range(0,sol_per_pop):\n",
    "        new_population.append(nn(game))\n",
    "else:\n",
    "    print(\"Checkpoint File found. Read it.\")\n",
    "    sol_per_pop = len(input_model_files)\n",
    "    for load_model_file in input_model_files:\n",
    "        print(os.path.join(load_model_file[0], load_model_file[1]))\n",
    "        nnet = nn(game)\n",
    "        nnet.load_checkpoint(load_model_file[0], load_model_file[1])\n",
    "        new_population.append(nnet)"
   ]
  },
  {
   "cell_type": "code",
   "execution_count": 5,
   "metadata": {},
   "outputs": [],
   "source": [
    "\"\"\"\n",
    "Creating Coach class used to generate Training Example\n",
    "    Load Train Example History if exist\n",
    "\"\"\"\n",
    "master = Coach(Game(), args)\n",
    "examples_file_path = os.path.join(input_path, train_examples_file_name)\n",
    "if os.path.isfile(examples_file_path) :\n",
    "    print(os.path.join(examples_file_path))\n",
    "    master.loadTrainExamples(examples_file_path)\n",
    "alpha_index = 0\n",
    "\"\"\"\n",
    "Start Genetic Algorithm\n",
    "\"\"\"\n",
    "ancestors = list(range(0,sol_per_pop))"
   ]
  },
  {
   "cell_type": "code",
   "execution_count": 6,
   "metadata": {},
   "outputs": [
    {
     "data": {
      "text/plain": [
       "True"
      ]
     },
     "execution_count": 6,
     "metadata": {},
     "output_type": "execute_result"
    }
   ],
   "source": [
    "from games.tictactoe.TicTacToeLogic import Board\n",
    "Board(3)[0][0][0].asscalar()==0"
   ]
  },
  {
   "cell_type": "code",
   "execution_count": 7,
   "metadata": {},
   "outputs": [
    {
     "name": "stdout",
     "output_type": "stream",
     "text": [
      "\n",
      "[[[[0. 0. 0.]\n",
      "   [0. 0. 0.]\n",
      "   [0. 0. 0.]]]]\n",
      "<NDArray 1x1x3x3 @cpu(0)>\n",
      "<class 'numpy.float32'>\n"
     ]
    }
   ],
   "source": [
    "board = game.getInitBoard()\n",
    "print(board)\n",
    "print(board.dtype)"
   ]
  },
  {
   "cell_type": "code",
   "execution_count": 8,
   "metadata": {},
   "outputs": [
    {
     "name": "stdout",
     "output_type": "stream",
     "text": [
      "7.2039146\n",
      "\n",
      "[7.2039146]\n",
      "<NDArray 1 @cpu(0)>\n",
      "0\n",
      "1\n",
      "2\n",
      "3\n",
      "4\n",
      "5\n",
      "6\n",
      "7\n",
      "8\n",
      "9\n"
     ]
    }
   ],
   "source": [
    "Ps,v = z.predict(board)\n",
    "valids = game.getValidMoves(board, 1)\n",
    "Ps = Ps*valids  \n",
    "import numpy as np\n",
    "print(np.sum(Ps.asnumpy()))\n",
    "from mxnet import nd\n",
    "print(nd.sum(Ps))\n",
    "for a in range(game.getActionSize()):\n",
    "    print(a)"
   ]
  },
  {
   "cell_type": "code",
   "execution_count": 9,
   "metadata": {},
   "outputs": [
    {
     "data": {
      "text/plain": [
       "numpy.float32"
      ]
     },
     "execution_count": 9,
     "metadata": {},
     "output_type": "execute_result"
    }
   ],
   "source": [
    "def flipud(x):\n",
    "    return nd.flip(data=x, axis=0)\n",
    "\n",
    "def fliplr(x):\n",
    "    return nd.flip(data=x, axis=1)\n",
    "\n",
    "def rot90(x, k):\n",
    "    k = k%4\n",
    "    if k == 0:\n",
    "        return x\n",
    "    if k == 1:\n",
    "        y = flipud(nd.transpose(x,axes=(0,1,2)))\n",
    "    if k == 2:\n",
    "        y = flipud(fliplr(x))\n",
    "    if k == 3:\n",
    "        y = nd.transpose(flipud(x),axes=(0,1,2))\n",
    "    return y\n",
    "\n",
    "pi = nd.array([0.,0.125,0.16666667,0.08333334,0.08333334,0.125,0.08333334,0.16666667,0.16666667,0.])\n",
    "#pi_board = nd.random.uniform(shape=(3,3))\n",
    "#pi_numpy = pi_board.asnumpy()\n",
    "#k = 3\n",
    "#print(pi_board)\n",
    "#print(\"NDArray\")\n",
    "#rnd = rot90(pi_board,k)\n",
    "#print(rnd.asnumpy())\n",
    "#print(rnd.reshape((9)))\n",
    "#print(\"Numpy\")\n",
    "#rnu = np.rot90(pi_numpy,k)\n",
    "#print(rnu)\n",
    "#print(rnu.ravel())\n",
    "\n",
    "#nd.concat(rnd.reshape((9)), pi[-1], dim=0)\n",
    "\n",
    "def getSymmetries(board, pi):\n",
    "    # mirror, rotational\n",
    "    assert(len(pi) == 3**2+1)  # 1 for pass\n",
    "    pi_board = nd.reshape(pi[:-1], (1, 3, 3))\n",
    "    \n",
    "    l = []\n",
    "\n",
    "    for i in range(1, 5):\n",
    "        for j in [True, False]:\n",
    "            newB = rot90(board, i)\n",
    "            newPi = rot90(pi_board, i)\n",
    "            if j:\n",
    "                newB = fliplr(newB)\n",
    "                newPi = fliplr(newPi)\n",
    "            l += [(newB, nd.concat(newPi.reshape((9)), pi[-1], dim=0))]\n",
    "    return l\n",
    "    \n",
    "newB = nd.random.uniform(shape=(1,3,3))\n",
    "fliplr(newB)\n",
    "\n",
    "board = nd.zeros((1,1,3,3))\n",
    "sym = getSymmetries(board[0], pi)\n",
    "sym[0][1].dtype"
   ]
  },
  {
   "cell_type": "code",
   "execution_count": 10,
   "metadata": {},
   "outputs": [
    {
     "name": "stdout",
     "output_type": "stream",
     "text": [
      "\n",
      "[[[[0. 0. 0.]\n",
      "   [0. 0. 0.]\n",
      "   [0. 0. 0.]]]]\n",
      "<NDArray 1x1x3x3 @cpu(0)>\n"
     ]
    },
    {
     "data": {
      "text/plain": [
       "\n",
       "[[[[0. 0. 0.]\n",
       "   [0. 0. 0.]\n",
       "   [0. 0. 0.]]]]\n",
       "<NDArray 1x1x3x3 @cpu(0)>"
      ]
     },
     "execution_count": 10,
     "metadata": {},
     "output_type": "execute_result"
    }
   ],
   "source": [
    "print(board)\n",
    "nd.transpose(board,axes=(0,1,2,3))"
   ]
  },
  {
   "cell_type": "code",
   "execution_count": 11,
   "metadata": {},
   "outputs": [
    {
     "name": "stdout",
     "output_type": "stream",
     "text": [
      "Generate Train Examples in 20 Eps Time: 2.474s | Total: 49.48s\n"
     ]
    }
   ],
   "source": [
    "alpha_padawan = new_population[alpha_index]\n",
    "train_examples = master.generate(alpha_padawan)"
   ]
  },
  {
   "cell_type": "code",
   "execution_count": 12,
   "metadata": {},
   "outputs": [],
   "source": [
    "from mxnet import nd, gpu, gluon, init, autograd\n",
    "input_boards, target_pis, target_vs = list(zip(*train_examples))\n",
    "dataset_train = gluon.data.dataset.ArrayDataset(input_boards, target_pis, target_vs)\n",
    "data_loader = gluon.data.DataLoader(dataset_train,batch_size=64,shuffle=True,num_workers=4)"
   ]
  },
  {
   "cell_type": "code",
   "execution_count": 13,
   "metadata": {},
   "outputs": [
    {
     "name": "stdout",
     "output_type": "stream",
     "text": [
      "(64, 1, 3, 3)\n",
      "Input Board Dtype:  <class 'numpy.float32'>\n",
      "Output Pis Dtype:  <class 'numpy.float32'>\n",
      "Output Vs Dtype:  <class 'numpy.float32'>\n",
      "Target Pis Dtype:  <class 'numpy.float32'>\n",
      "Target Vs Dtype:  <class 'numpy.float32'>\n",
      "(64, 10)  =  (64, 10)\n",
      "(64, 1)  =  (64, 1)\n",
      "\n",
      "[21.231863 21.052818 21.18766  21.231863 21.989727 19.496254 21.990738\n",
      " 21.100172 19.574512 21.156937 21.100172 19.606977 21.052818 21.156937\n",
      " 19.63634  19.702454 19.702454 19.554472 21.22323  19.593252 20.115675\n",
      " 21.18766  21.019604 20.13241  19.795837 19.784962 21.383862 19.593252\n",
      " 21.26675  22.033484 19.593252 19.778685 21.156937 19.56837  19.536488\n",
      " 21.131683 19.96339  21.107088 19.828941 19.593252 21.181616 19.546614\n",
      " 21.880856 19.656792 19.536488 19.644333 21.929937 19.826292 21.889055\n",
      " 19.536488 19.594643 19.748734 21.958965 21.066362 19.744139 19.456884\n",
      " 19.818253 19.723186 19.770912 21.041645 19.522575 21.990738 21.239813\n",
      " 19.471699]\n",
      "<NDArray 64 @cpu(0)>\n"
     ]
    }
   ],
   "source": [
    "for input_board, target_pi, target_v in data_loader:\n",
    "    print(input_board.shape)\n",
    "    pi,v = z.predict(input_board)\n",
    "        \n",
    "    print(\"Input Board Dtype: \", input_board.dtype)\n",
    "    print(\"Output Pis Dtype: \", pi.dtype)\n",
    "    print(\"Output Vs Dtype: \", target_pi.dtype)\n",
    "    print(\"Target Pis Dtype: \", pi.dtype)\n",
    "    print(\"Target Vs Dtype: \", target_v.dtype)\n",
    "    \n",
    "    print(target_pi.shape, \" = \", pi.shape)\n",
    "    print(target_v.shape, \" = \", v.shape)\n",
    "\n",
    "    v_loss = z.v_loss(target_v,v) \n",
    "    pi_loss = z.pi_loss(target_pi,pi)\n",
    "    loss = pi_loss + v_loss\n",
    "    print(loss)\n",
    "    break"
   ]
  },
  {
   "cell_type": "code",
   "execution_count": 14,
   "metadata": {},
   "outputs": [
    {
     "data": {
      "text/plain": [
       "\n",
       "[3.295837 3.295837 3.295837]\n",
       "<NDArray 3 @cpu(0)>"
      ]
     },
     "execution_count": 14,
     "metadata": {},
     "output_type": "execute_result"
    }
   ],
   "source": [
    "z.pi_loss(nd.zeros((3,3)),nd.ones((3,3)))"
   ]
  },
  {
   "cell_type": "code",
   "execution_count": 15,
   "metadata": {},
   "outputs": [
    {
     "name": "stdout",
     "output_type": "stream",
     "text": [
      "------ Padawan 0: 0x120f8f7f0 ------\n",
      "------ Padawan 1: 0x120fab278 ------\n",
      "------ Padawan 2: 0x12626c630 ------\n",
      "------ Padawan 3: 0x126218390 ------\n",
      "------ Padawan 4: 0x126238358 ------\n",
      "------ Padawan 5: 0x1262b40b8 ------\n"
     ]
    }
   ],
   "source": [
    "master.train(new_population, train_examples)"
   ]
  },
  {
   "cell_type": "code",
   "execution_count": 16,
   "metadata": {},
   "outputs": [
    {
     "name": "stdout",
     "output_type": "stream",
     "text": [
      "Prove your value Padawans!\n"
     ]
    },
    {
     "ename": "MXNetError",
     "evalue": "[01:17:53] src/operator/tensor/./broadcast_reduce_op.h:461: Global reduction not supported yet\n\nStack trace returned 10 entries:\n[bt] (0) 0   libmxnet.so                         0x0000000113a42b90 libmxnet.so + 15248\n[bt] (1) 1   libmxnet.so                         0x0000000113a4293f libmxnet.so + 14655\n[bt] (2) 2   libmxnet.so                         0x0000000113a42569 libmxnet.so + 13673\n[bt] (3) 3   libmxnet.so                         0x0000000113dfe9d4 libmxnet.so + 3930580\n[bt] (4) 4   libmxnet.so                         0x0000000114f858ed MXNDListFree + 561325\n[bt] (5) 5   libmxnet.so                         0x0000000114f0c7f4 MXNDListFree + 65460\n[bt] (6) 6   libmxnet.so                         0x0000000114f0eec8 MXNDListFree + 75400\n[bt] (7) 7   libmxnet.so                         0x0000000114f12261 MXNDListFree + 88609\n[bt] (8) 8   libmxnet.so                         0x0000000114f1217f MXNDListFree + 88383\n[bt] (9) 9   libmxnet.so                         0x0000000114f0fc55 MXNDListFree + 78869\n\n",
     "output_type": "error",
     "traceback": [
      "\u001b[0;31m---------------------------------------------------------------------------\u001b[0m",
      "\u001b[0;31mMXNetError\u001b[0m                                Traceback (most recent call last)",
      "\u001b[0;32m<ipython-input-16-c8dd09dc3afe>\u001b[0m in \u001b[0;36m<module>\u001b[0;34m()\u001b[0m\n\u001b[0;32m----> 1\u001b[0;31m \u001b[0mfitness\u001b[0m \u001b[0;34m=\u001b[0m \u001b[0mGA\u001b[0m\u001b[0;34m.\u001b[0m\u001b[0mcal_pop_fitness\u001b[0m\u001b[0;34m(\u001b[0m\u001b[0mnew_population\u001b[0m\u001b[0;34m,\u001b[0m \u001b[0margs\u001b[0m\u001b[0;34m)\u001b[0m\u001b[0;34m\u001b[0m\u001b[0;34m\u001b[0m\u001b[0m\n\u001b[0m",
      "\u001b[0;32m~/OneDrive - studenti.unisa.it/Study/GA/reinforcement genetic algorithm/sagemaker/mxnet/reinf/GA.py\u001b[0m in \u001b[0;36mcal_pop_fitness\u001b[0;34m(pop, args)\u001b[0m\n\u001b[1;32m     28\u001b[0m             arena = Arena(lambda x: numpy.argmax(pmcts.getActionProb(x, temp=0)),\n\u001b[1;32m     29\u001b[0m                           lambda x: numpy.argmax(nmcts.getActionProb(x, temp=0)), pnnet.game)\n\u001b[0;32m---> 30\u001b[0;31m             \u001b[0mpwins\u001b[0m\u001b[0;34m,\u001b[0m \u001b[0mnwins\u001b[0m\u001b[0;34m,\u001b[0m \u001b[0mdraws\u001b[0m\u001b[0;34m,\u001b[0m \u001b[0mtotal\u001b[0m \u001b[0;34m=\u001b[0m \u001b[0marena\u001b[0m\u001b[0;34m.\u001b[0m\u001b[0mplayGames\u001b[0m\u001b[0;34m(\u001b[0m\u001b[0margs\u001b[0m\u001b[0;34m.\u001b[0m\u001b[0marenaCompare\u001b[0m\u001b[0;34m)\u001b[0m\u001b[0;34m\u001b[0m\u001b[0;34m\u001b[0m\u001b[0m\n\u001b[0m\u001b[1;32m     31\u001b[0m \u001b[0;34m\u001b[0m\u001b[0m\n\u001b[1;32m     32\u001b[0m             \u001b[0mprint\u001b[0m\u001b[0;34m(\u001b[0m\u001b[0;34m'P{}/P{} WINS : {} / {} ; DRAWS : {} | Time {}s'\u001b[0m\u001b[0;34m.\u001b[0m\u001b[0mformat\u001b[0m\u001b[0;34m(\u001b[0m\u001b[0midx\u001b[0m\u001b[0;34m,\u001b[0m \u001b[0mjdx\u001b[0m\u001b[0;34m,\u001b[0m \u001b[0mpwins\u001b[0m\u001b[0;34m,\u001b[0m \u001b[0mnwins\u001b[0m\u001b[0;34m,\u001b[0m \u001b[0mdraws\u001b[0m\u001b[0;34m,\u001b[0m \u001b[0mtotal\u001b[0m\u001b[0;34m)\u001b[0m\u001b[0;34m)\u001b[0m\u001b[0;34m\u001b[0m\u001b[0;34m\u001b[0m\u001b[0m\n",
      "\u001b[0;32m~/OneDrive - studenti.unisa.it/Study/GA/reinforcement genetic algorithm/sagemaker/mxnet/reinf/Arena.py\u001b[0m in \u001b[0;36mplayGames\u001b[0;34m(self, num, verbose)\u001b[0m\n\u001b[1;32m     78\u001b[0m         \u001b[0mdraws\u001b[0m \u001b[0;34m=\u001b[0m \u001b[0;36m0\u001b[0m\u001b[0;34m\u001b[0m\u001b[0;34m\u001b[0m\u001b[0m\n\u001b[1;32m     79\u001b[0m         \u001b[0;32mfor\u001b[0m \u001b[0m_\u001b[0m \u001b[0;32min\u001b[0m \u001b[0mrange\u001b[0m\u001b[0;34m(\u001b[0m\u001b[0mnum\u001b[0m\u001b[0;34m)\u001b[0m\u001b[0;34m:\u001b[0m\u001b[0;34m\u001b[0m\u001b[0;34m\u001b[0m\u001b[0m\n\u001b[0;32m---> 80\u001b[0;31m             \u001b[0mgameResult\u001b[0m \u001b[0;34m=\u001b[0m \u001b[0mself\u001b[0m\u001b[0;34m.\u001b[0m\u001b[0mplayGame\u001b[0m\u001b[0;34m(\u001b[0m\u001b[0mverbose\u001b[0m\u001b[0;34m=\u001b[0m\u001b[0mverbose\u001b[0m\u001b[0;34m)\u001b[0m\u001b[0;34m\u001b[0m\u001b[0;34m\u001b[0m\u001b[0m\n\u001b[0m\u001b[1;32m     81\u001b[0m             \u001b[0;32mif\u001b[0m \u001b[0mgameResult\u001b[0m\u001b[0;34m==\u001b[0m\u001b[0;36m1\u001b[0m\u001b[0;34m:\u001b[0m\u001b[0;34m\u001b[0m\u001b[0;34m\u001b[0m\u001b[0m\n\u001b[1;32m     82\u001b[0m                 \u001b[0moneWon\u001b[0m\u001b[0;34m+=\u001b[0m\u001b[0;36m1\u001b[0m\u001b[0;34m\u001b[0m\u001b[0;34m\u001b[0m\u001b[0m\n",
      "\u001b[0;32m~/OneDrive - studenti.unisa.it/Study/GA/reinforcement genetic algorithm/sagemaker/mxnet/reinf/Arena.py\u001b[0m in \u001b[0;36mplayGame\u001b[0;34m(self, verbose)\u001b[0m\n\u001b[1;32m     47\u001b[0m             \u001b[0mvalids\u001b[0m \u001b[0;34m=\u001b[0m \u001b[0mself\u001b[0m\u001b[0;34m.\u001b[0m\u001b[0mgame\u001b[0m\u001b[0;34m.\u001b[0m\u001b[0mgetValidMoves\u001b[0m\u001b[0;34m(\u001b[0m\u001b[0mself\u001b[0m\u001b[0;34m.\u001b[0m\u001b[0mgame\u001b[0m\u001b[0;34m.\u001b[0m\u001b[0mgetCanonicalForm\u001b[0m\u001b[0;34m(\u001b[0m\u001b[0mboard\u001b[0m\u001b[0;34m,\u001b[0m \u001b[0mcurPlayer\u001b[0m\u001b[0;34m)\u001b[0m\u001b[0;34m,\u001b[0m\u001b[0;36m1\u001b[0m\u001b[0;34m)\u001b[0m\u001b[0;34m\u001b[0m\u001b[0;34m\u001b[0m\u001b[0m\n\u001b[1;32m     48\u001b[0m \u001b[0;34m\u001b[0m\u001b[0m\n\u001b[0;32m---> 49\u001b[0;31m             \u001b[0;32mif\u001b[0m \u001b[0mvalids\u001b[0m\u001b[0;34m[\u001b[0m\u001b[0maction\u001b[0m\u001b[0;34m]\u001b[0m\u001b[0;34m==\u001b[0m\u001b[0;36m0\u001b[0m\u001b[0;34m:\u001b[0m\u001b[0;34m\u001b[0m\u001b[0;34m\u001b[0m\u001b[0m\n\u001b[0m\u001b[1;32m     50\u001b[0m                 \u001b[0mprint\u001b[0m\u001b[0;34m(\u001b[0m\u001b[0maction\u001b[0m\u001b[0;34m)\u001b[0m\u001b[0;34m\u001b[0m\u001b[0;34m\u001b[0m\u001b[0m\n\u001b[1;32m     51\u001b[0m                 \u001b[0;32massert\u001b[0m \u001b[0mvalids\u001b[0m\u001b[0;34m[\u001b[0m\u001b[0maction\u001b[0m\u001b[0;34m]\u001b[0m \u001b[0;34m>\u001b[0m\u001b[0;36m0\u001b[0m\u001b[0;34m\u001b[0m\u001b[0;34m\u001b[0m\u001b[0m\n",
      "\u001b[0;32m~/anaconda3/envs/MXNet/lib/python3.6/site-packages/mxnet/ndarray/ndarray.py\u001b[0m in \u001b[0;36m__bool__\u001b[0;34m(self)\u001b[0m\n\u001b[1;32m    348\u001b[0m             \u001b[0;32mreturn\u001b[0m \u001b[0;32mFalse\u001b[0m\u001b[0;34m\u001b[0m\u001b[0;34m\u001b[0m\u001b[0m\n\u001b[1;32m    349\u001b[0m         \u001b[0;32melif\u001b[0m \u001b[0mnum_elements\u001b[0m \u001b[0;34m==\u001b[0m \u001b[0;36m1\u001b[0m\u001b[0;34m:\u001b[0m\u001b[0;34m\u001b[0m\u001b[0;34m\u001b[0m\u001b[0m\n\u001b[0;32m--> 350\u001b[0;31m             \u001b[0;32mreturn\u001b[0m \u001b[0mbool\u001b[0m\u001b[0;34m(\u001b[0m\u001b[0mself\u001b[0m\u001b[0;34m.\u001b[0m\u001b[0masscalar\u001b[0m\u001b[0;34m(\u001b[0m\u001b[0;34m)\u001b[0m\u001b[0;34m)\u001b[0m\u001b[0;34m\u001b[0m\u001b[0;34m\u001b[0m\u001b[0m\n\u001b[0m\u001b[1;32m    351\u001b[0m         \u001b[0;32melse\u001b[0m\u001b[0;34m:\u001b[0m\u001b[0;34m\u001b[0m\u001b[0;34m\u001b[0m\u001b[0m\n\u001b[1;32m    352\u001b[0m             raise ValueError(\"The truth value of an NDArray with multiple elements \" \\\n",
      "\u001b[0;32m~/anaconda3/envs/MXNet/lib/python3.6/site-packages/mxnet/ndarray/ndarray.py\u001b[0m in \u001b[0;36masscalar\u001b[0;34m(self)\u001b[0m\n\u001b[1;32m   1988\u001b[0m         \u001b[0;32mif\u001b[0m \u001b[0mself\u001b[0m\u001b[0;34m.\u001b[0m\u001b[0mshape\u001b[0m \u001b[0;34m!=\u001b[0m \u001b[0;34m(\u001b[0m\u001b[0;36m1\u001b[0m\u001b[0;34m,\u001b[0m\u001b[0;34m)\u001b[0m\u001b[0;34m:\u001b[0m\u001b[0;34m\u001b[0m\u001b[0;34m\u001b[0m\u001b[0m\n\u001b[1;32m   1989\u001b[0m             \u001b[0;32mraise\u001b[0m \u001b[0mValueError\u001b[0m\u001b[0;34m(\u001b[0m\u001b[0;34m\"The current array is not a scalar\"\u001b[0m\u001b[0;34m)\u001b[0m\u001b[0;34m\u001b[0m\u001b[0;34m\u001b[0m\u001b[0m\n\u001b[0;32m-> 1990\u001b[0;31m         \u001b[0;32mreturn\u001b[0m \u001b[0mself\u001b[0m\u001b[0;34m.\u001b[0m\u001b[0masnumpy\u001b[0m\u001b[0;34m(\u001b[0m\u001b[0;34m)\u001b[0m\u001b[0;34m[\u001b[0m\u001b[0;36m0\u001b[0m\u001b[0;34m]\u001b[0m\u001b[0;34m\u001b[0m\u001b[0;34m\u001b[0m\u001b[0m\n\u001b[0m\u001b[1;32m   1991\u001b[0m \u001b[0;34m\u001b[0m\u001b[0m\n\u001b[1;32m   1992\u001b[0m     \u001b[0;32mdef\u001b[0m \u001b[0mastype\u001b[0m\u001b[0;34m(\u001b[0m\u001b[0mself\u001b[0m\u001b[0;34m,\u001b[0m \u001b[0mdtype\u001b[0m\u001b[0;34m,\u001b[0m \u001b[0mcopy\u001b[0m\u001b[0;34m=\u001b[0m\u001b[0;32mTrue\u001b[0m\u001b[0;34m)\u001b[0m\u001b[0;34m:\u001b[0m\u001b[0;34m\u001b[0m\u001b[0;34m\u001b[0m\u001b[0m\n",
      "\u001b[0;32m~/anaconda3/envs/MXNet/lib/python3.6/site-packages/mxnet/ndarray/ndarray.py\u001b[0m in \u001b[0;36masnumpy\u001b[0;34m(self)\u001b[0m\n\u001b[1;32m   1970\u001b[0m             \u001b[0mself\u001b[0m\u001b[0;34m.\u001b[0m\u001b[0mhandle\u001b[0m\u001b[0;34m,\u001b[0m\u001b[0;34m\u001b[0m\u001b[0;34m\u001b[0m\u001b[0m\n\u001b[1;32m   1971\u001b[0m             \u001b[0mdata\u001b[0m\u001b[0;34m.\u001b[0m\u001b[0mctypes\u001b[0m\u001b[0;34m.\u001b[0m\u001b[0mdata_as\u001b[0m\u001b[0;34m(\u001b[0m\u001b[0mctypes\u001b[0m\u001b[0;34m.\u001b[0m\u001b[0mc_void_p\u001b[0m\u001b[0;34m)\u001b[0m\u001b[0;34m,\u001b[0m\u001b[0;34m\u001b[0m\u001b[0;34m\u001b[0m\u001b[0m\n\u001b[0;32m-> 1972\u001b[0;31m             ctypes.c_size_t(data.size)))\n\u001b[0m\u001b[1;32m   1973\u001b[0m         \u001b[0;32mreturn\u001b[0m \u001b[0mdata\u001b[0m\u001b[0;34m\u001b[0m\u001b[0;34m\u001b[0m\u001b[0m\n\u001b[1;32m   1974\u001b[0m \u001b[0;34m\u001b[0m\u001b[0m\n",
      "\u001b[0;32m~/anaconda3/envs/MXNet/lib/python3.6/site-packages/mxnet/base.py\u001b[0m in \u001b[0;36mcheck_call\u001b[0;34m(ret)\u001b[0m\n\u001b[1;32m    250\u001b[0m     \"\"\"\n\u001b[1;32m    251\u001b[0m     \u001b[0;32mif\u001b[0m \u001b[0mret\u001b[0m \u001b[0;34m!=\u001b[0m \u001b[0;36m0\u001b[0m\u001b[0;34m:\u001b[0m\u001b[0;34m\u001b[0m\u001b[0;34m\u001b[0m\u001b[0m\n\u001b[0;32m--> 252\u001b[0;31m         \u001b[0;32mraise\u001b[0m \u001b[0mMXNetError\u001b[0m\u001b[0;34m(\u001b[0m\u001b[0mpy_str\u001b[0m\u001b[0;34m(\u001b[0m\u001b[0m_LIB\u001b[0m\u001b[0;34m.\u001b[0m\u001b[0mMXGetLastError\u001b[0m\u001b[0;34m(\u001b[0m\u001b[0;34m)\u001b[0m\u001b[0;34m)\u001b[0m\u001b[0;34m)\u001b[0m\u001b[0;34m\u001b[0m\u001b[0;34m\u001b[0m\u001b[0m\n\u001b[0m\u001b[1;32m    253\u001b[0m \u001b[0;34m\u001b[0m\u001b[0m\n\u001b[1;32m    254\u001b[0m \u001b[0;34m\u001b[0m\u001b[0m\n",
      "\u001b[0;31mMXNetError\u001b[0m: [01:17:53] src/operator/tensor/./broadcast_reduce_op.h:461: Global reduction not supported yet\n\nStack trace returned 10 entries:\n[bt] (0) 0   libmxnet.so                         0x0000000113a42b90 libmxnet.so + 15248\n[bt] (1) 1   libmxnet.so                         0x0000000113a4293f libmxnet.so + 14655\n[bt] (2) 2   libmxnet.so                         0x0000000113a42569 libmxnet.so + 13673\n[bt] (3) 3   libmxnet.so                         0x0000000113dfe9d4 libmxnet.so + 3930580\n[bt] (4) 4   libmxnet.so                         0x0000000114f858ed MXNDListFree + 561325\n[bt] (5) 5   libmxnet.so                         0x0000000114f0c7f4 MXNDListFree + 65460\n[bt] (6) 6   libmxnet.so                         0x0000000114f0eec8 MXNDListFree + 75400\n[bt] (7) 7   libmxnet.so                         0x0000000114f12261 MXNDListFree + 88609\n[bt] (8) 8   libmxnet.so                         0x0000000114f1217f MXNDListFree + 88383\n[bt] (9) 9   libmxnet.so                         0x0000000114f0fc55 MXNDListFree + 78869\n\n"
     ]
    }
   ],
   "source": [
    "fitness = GA.cal_pop_fitness(new_population, args)"
   ]
  },
  {
   "cell_type": "code",
   "execution_count": null,
   "metadata": {},
   "outputs": [],
   "source": [
    "nnet_parents, parents_weights, indices = GA.select_mating_pool(new_population, fitness, num_parents)"
   ]
  },
  {
   "cell_type": "code",
   "execution_count": null,
   "metadata": {},
   "outputs": [],
   "source": [
    "offspring_crossover = GA.crossover(parents_weights, offspring_size=sol_per_pop-num_parents)"
   ]
  }
 ],
 "metadata": {
  "kernelspec": {
   "display_name": "Python 3",
   "language": "python",
   "name": "python3"
  },
  "language_info": {
   "codemirror_mode": {
    "name": "ipython",
    "version": 3
   },
   "file_extension": ".py",
   "mimetype": "text/x-python",
   "name": "python",
   "nbconvert_exporter": "python",
   "pygments_lexer": "ipython3",
   "version": "3.6.7"
  }
 },
 "nbformat": 4,
 "nbformat_minor": 2
}
