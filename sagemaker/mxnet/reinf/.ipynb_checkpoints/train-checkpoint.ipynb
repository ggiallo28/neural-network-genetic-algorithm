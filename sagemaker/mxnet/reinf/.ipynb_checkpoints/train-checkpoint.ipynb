{
 "cells": [
  {
   "cell_type": "code",
   "execution_count": 1,
   "metadata": {},
   "outputs": [],
   "source": [
    "#!/usr/bin/env python\n",
    "\n",
    "from Coach import Coach\n",
    "from games.tictactoe.TicTacToeGame import TicTacToeGame as Game\n",
    "from games.tictactoe.mxnet.NNet import NNetWrapper as nn\n",
    "from utils import *\n",
    "import numpy\n",
    "import GA\n",
    "from random import shuffle\n",
    "import math\n",
    "import os\n",
    "\n",
    "train_examples_file_name = \"checkpoint.examples\"\n",
    "\n",
    "# These are the paths to where SageMaker mounts interesting things in your container.\n",
    "\n",
    "prefix = '/opt/ml/'\n",
    "channel_name='training'\n",
    "model_path = os.path.join(prefix, 'model')\n",
    "param_path = os.path.join(prefix, 'io/config/hyperparameters.json')\n",
    "input_path = output_path = os.path.join(prefix + 'io/data', channel_name)\n",
    "\n",
    "# Read in any hyperparameters that the user passed with the training job\n",
    "if os.path.isfile(param_path):\n",
    "    with open(param_path, 'r') as tc:\n",
    "        args = dotdict(json.load(tc))\n",
    "\n",
    "args = dotdict({\n",
    "    'numIters': 2,\n",
    "    'numEps': 20,\n",
    "    'tempThreshold': 15,\n",
    "    'updateThreshold': 0.6,\n",
    "    'maxlenOfQueue': 200000,\n",
    "    'numMCTSSims': 25,\n",
    "    'arenaCompare': 4,\n",
    "    'cpuct': 1,\n",
    "\n",
    "    'checkpoint': './temp/',\n",
    "    'load_model': False,\n",
    "    'load_folder_file': ('/dev/models/8x100x50','best.pth.tar'),\n",
    "    'numItersForTrainExamplesHistory': 7,\n",
    "})"
   ]
  },
  {
   "cell_type": "code",
   "execution_count": 2,
   "metadata": {},
   "outputs": [],
   "source": [
    "sol_per_pop = 6\n",
    "num_parents = 3\n",
    "num_generations = 20\n",
    "\n",
    "\"\"\"\n",
    "Creating the initial population.\n",
    "    Generate population from scratch if there is no checkpoint,\n",
    "    or load population from file.\n",
    "\"\"\"\n",
    "#\n",
    "input_model_files = [ [model_path, file] for file in os.listdir(model_path) ]\n",
    "input_model_files.sort()\n",
    "game = Game()"
   ]
  },
  {
   "cell_type": "code",
   "execution_count": 3,
   "metadata": {},
   "outputs": [
    {
     "data": {
      "text/plain": [
       "(\n",
       " [[0.28732005 0.88008714 1.0076691  0.7825768  0.31865382 1.0440212\n",
       "   0.3939152  1.1920686  1.2976027  1.2683628 ]]\n",
       " <NDArray 1x10 @cpu(0)>, \n",
       " [[-0.7818425]]\n",
       " <NDArray 1x1 @cpu(0)>)"
      ]
     },
     "execution_count": 3,
     "metadata": {},
     "output_type": "execute_result"
    }
   ],
   "source": [
    "from games.tictactoe.mxnet.TicTacToeNNet import TicTacToeNNet as onnet\n",
    "args2 = dotdict({\n",
    "    'lr': 0.001,\n",
    "    'dropout': 0.3,\n",
    "    'epochs': 1,\n",
    "    'batch_size': 64,\n",
    "    'cuda': False,\n",
    "    'num_channels': 512,\n",
    "})\n",
    "z = onnet(game, args2)\n",
    "from mxnet import nd\n",
    "z.predict(nd.zeros((1,1,3,3)))"
   ]
  },
  {
   "cell_type": "code",
   "execution_count": 4,
   "metadata": {},
   "outputs": [],
   "source": [
    "new_population = []\n",
    "if len(input_model_files) == 0:\n",
    "    for i in range(0,sol_per_pop):\n",
    "        new_population.append(nn(game))\n",
    "else:\n",
    "    print(\"Checkpoint File found. Read it.\")\n",
    "    sol_per_pop = len(input_model_files)\n",
    "    for load_model_file in input_model_files:\n",
    "        print(os.path.join(load_model_file[0], load_model_file[1]))\n",
    "        nnet = nn(game)\n",
    "        nnet.load_checkpoint(load_model_file[0], load_model_file[1])\n",
    "        new_population.append(nnet)"
   ]
  },
  {
   "cell_type": "code",
   "execution_count": 5,
   "metadata": {},
   "outputs": [],
   "source": [
    "\"\"\"\n",
    "Creating Coach class used to generate Training Example\n",
    "    Load Train Example History if exist\n",
    "\"\"\"\n",
    "master = Coach(Game(), args)\n",
    "examples_file_path = os.path.join(input_path, train_examples_file_name)\n",
    "if os.path.isfile(examples_file_path) :\n",
    "    print(os.path.join(examples_file_path))\n",
    "    master.loadTrainExamples(examples_file_path)\n",
    "alpha_index = 0\n",
    "\"\"\"\n",
    "Start Genetic Algorithm\n",
    "\"\"\"\n",
    "ancestors = list(range(0,sol_per_pop))"
   ]
  },
  {
   "cell_type": "code",
   "execution_count": 6,
   "metadata": {},
   "outputs": [
    {
     "data": {
      "text/plain": [
       "True"
      ]
     },
     "execution_count": 6,
     "metadata": {},
     "output_type": "execute_result"
    }
   ],
   "source": [
    "from games.tictactoe.TicTacToeLogic import Board\n",
    "Board(3)[0][0][0].asscalar()==0"
   ]
  },
  {
   "cell_type": "code",
   "execution_count": 7,
   "metadata": {},
   "outputs": [
    {
     "name": "stdout",
     "output_type": "stream",
     "text": [
      "\n",
      "[[[[0. 0. 0.]\n",
      "   [0. 0. 0.]\n",
      "   [0. 0. 0.]]]]\n",
      "<NDArray 1x1x3x3 @cpu(0)>\n"
     ]
    }
   ],
   "source": [
    "board = game.getInitBoard()\n",
    "print(board)"
   ]
  },
  {
   "cell_type": "code",
   "execution_count": 8,
   "metadata": {},
   "outputs": [
    {
     "name": "stdout",
     "output_type": "stream",
     "text": [
      "7.2039146\n",
      "\n",
      "[7.2039146]\n",
      "<NDArray 1 @cpu(0)>\n",
      "0\n",
      "1\n",
      "2\n",
      "3\n",
      "4\n",
      "5\n",
      "6\n",
      "7\n",
      "8\n",
      "9\n"
     ]
    }
   ],
   "source": [
    "Ps,v = z.predict(board)\n",
    "valids = game.getValidMoves(board, 1)\n",
    "Ps = Ps*valids  \n",
    "import numpy as np\n",
    "print(np.sum(Ps.asnumpy()))\n",
    "from mxnet import nd\n",
    "print(nd.sum(Ps))\n",
    "for a in range(game.getActionSize()):\n",
    "    print(a)"
   ]
  },
  {
   "cell_type": "code",
   "execution_count": 9,
   "metadata": {},
   "outputs": [
    {
     "ename": "NameError",
     "evalue": "name 'rnd' is not defined",
     "output_type": "error",
     "traceback": [
      "\u001b[0;31m---------------------------------------------------------------------------\u001b[0m",
      "\u001b[0;31mNameError\u001b[0m                                 Traceback (most recent call last)",
      "\u001b[0;32m<ipython-input-9-af4ac361d874>\u001b[0m in \u001b[0;36m<module>\u001b[0;34m()\u001b[0m\n\u001b[1;32m     31\u001b[0m \u001b[0;31m#print(rnu.ravel())\u001b[0m\u001b[0;34m\u001b[0m\u001b[0;34m\u001b[0m\u001b[0;34m\u001b[0m\u001b[0m\n\u001b[1;32m     32\u001b[0m \u001b[0;34m\u001b[0m\u001b[0m\n\u001b[0;32m---> 33\u001b[0;31m \u001b[0mnd\u001b[0m\u001b[0;34m.\u001b[0m\u001b[0mconcat\u001b[0m\u001b[0;34m(\u001b[0m\u001b[0mrnd\u001b[0m\u001b[0;34m.\u001b[0m\u001b[0mreshape\u001b[0m\u001b[0;34m(\u001b[0m\u001b[0;34m(\u001b[0m\u001b[0;36m9\u001b[0m\u001b[0;34m)\u001b[0m\u001b[0;34m)\u001b[0m\u001b[0;34m,\u001b[0m \u001b[0mpi\u001b[0m\u001b[0;34m[\u001b[0m\u001b[0;34m-\u001b[0m\u001b[0;36m1\u001b[0m\u001b[0;34m]\u001b[0m\u001b[0;34m,\u001b[0m \u001b[0mdim\u001b[0m\u001b[0;34m=\u001b[0m\u001b[0;36m0\u001b[0m\u001b[0;34m)\u001b[0m\u001b[0;34m\u001b[0m\u001b[0;34m\u001b[0m\u001b[0m\n\u001b[0m\u001b[1;32m     34\u001b[0m \u001b[0;34m\u001b[0m\u001b[0m\n\u001b[1;32m     35\u001b[0m \u001b[0;32mdef\u001b[0m \u001b[0mgetSymmetries\u001b[0m\u001b[0;34m(\u001b[0m\u001b[0mboard\u001b[0m\u001b[0;34m,\u001b[0m \u001b[0mpi\u001b[0m\u001b[0;34m)\u001b[0m\u001b[0;34m:\u001b[0m\u001b[0;34m\u001b[0m\u001b[0;34m\u001b[0m\u001b[0m\n",
      "\u001b[0;31mNameError\u001b[0m: name 'rnd' is not defined"
     ]
    }
   ],
   "source": [
    "def flipud(x):\n",
    "    return nd.flip(data=x, axis=0)\n",
    "\n",
    "def fliplr(x):\n",
    "    return nd.flip(data=x, axis=1)\n",
    "\n",
    "def rot90(x, k):\n",
    "    k = k%4\n",
    "    if k == 0:\n",
    "        return x\n",
    "    if k == 1:\n",
    "        y = flipud(nd.transpose(x,axes=(0,1,2)))\n",
    "    if k == 2:\n",
    "        y = flipud(fliplr(x))\n",
    "    if k == 3:\n",
    "        y = nd.transpose(flipud(x),axes=(0,1,2))\n",
    "    return y\n",
    "\n",
    "#pi = nd.array([0.,0.125,0.16666667,0.08333334,0.08333334,0.125,0.08333334,0.16666667,0.16666667,0.])\n",
    "#pi_board = nd.random.uniform(shape=(3,3))\n",
    "#pi_numpy = pi_board.asnumpy()\n",
    "#k = 3\n",
    "#print(pi_board)\n",
    "#print(\"NDArray\")\n",
    "#rnd = rot90(pi_board,k)\n",
    "#print(rnd.asnumpy())\n",
    "#print(rnd.reshape((9)))\n",
    "#print(\"Numpy\")\n",
    "#rnu = np.rot90(pi_numpy,k)\n",
    "#print(rnu)\n",
    "#print(rnu.ravel())\n",
    "\n",
    "#nd.concat(rnd.reshape((9)), pi[-1], dim=0)\n",
    "\n",
    "def getSymmetries(board, pi):\n",
    "    # mirror, rotational\n",
    "    assert(len(pi) == 3**2+1)  # 1 for pass\n",
    "    pi_board = nd.reshape(pi[:-1], (1, 3, 3))\n",
    "    \n",
    "    l = []\n",
    "\n",
    "    for i in range(1, 5):\n",
    "        for j in [True, False]:\n",
    "            newB = rot90(board, i)\n",
    "            newPi = rot90(pi_board, i)\n",
    "            if j:\n",
    "                newB = fliplr(newB)\n",
    "                newPi = fliplr(newPi)\n",
    "            l += [(newB, nd.concat(newPi.reshape((9)), pi[-1], dim=0))]\n",
    "    return l\n",
    "    \n",
    "newB = nd.random.uniform(shape=(1,3,3))\n",
    "fliplr(newB)\n",
    "\n",
    "board = nd.zeros((1,1,3,3))\n",
    "sym = getSymmetries(board[0], pi)\n",
    "sym"
   ]
  },
  {
   "cell_type": "code",
   "execution_count": null,
   "metadata": {},
   "outputs": [],
   "source": [
    "print(board)\n",
    "nd.transpose(board,axes=(0,1,2,3))"
   ]
  },
  {
   "cell_type": "code",
   "execution_count": null,
   "metadata": {},
   "outputs": [],
   "source": [
    "alpha_padawan = new_population[alpha_index]\n",
    "train_examples = master.generate(alpha_padawan)"
   ]
  },
  {
   "cell_type": "code",
   "execution_count": null,
   "metadata": {},
   "outputs": [],
   "source": [
    "train_examples"
   ]
  },
  {
   "cell_type": "code",
   "execution_count": null,
   "metadata": {},
   "outputs": [],
   "source": [
    "from mxnet import nd, gpu, gluon, init, autograd\n",
    "input_boards, target_pis, target_vs = list(zip(*train_examples))\n",
    "dataset_train = gluon.data.dataset.ArrayDataset(input_boards, target_pis, target_vs)\n",
    "data_loader = gluon.data.DataLoader(dataset_train,batch_size=64,shuffle=True,num_workers=4)\n",
    "\n",
    "for input_board, target_pi, target_v in data_loader:\n",
    "    print(input_board[0])\n",
    "    print(input_board.shape)\n",
    "    p,v = z.predict(input_board)\n",
    "    print(p.shape, target_pi.shape)   \n",
    "    print(v.shape, target_v.shape)\n",
    "    break"
   ]
  },
  {
   "cell_type": "code",
   "execution_count": null,
   "metadata": {},
   "outputs": [],
   "source": [
    "master.train(new_population, train_examples)"
   ]
  },
  {
   "cell_type": "code",
   "execution_count": null,
   "metadata": {},
   "outputs": [],
   "source": []
  }
 ],
 "metadata": {
  "kernelspec": {
   "display_name": "Python 3",
   "language": "python",
   "name": "python3"
  },
  "language_info": {
   "codemirror_mode": {
    "name": "ipython",
    "version": 3
   },
   "file_extension": ".py",
   "mimetype": "text/x-python",
   "name": "python",
   "nbconvert_exporter": "python",
   "pygments_lexer": "ipython3",
   "version": "3.6.7"
  }
 },
 "nbformat": 4,
 "nbformat_minor": 2
}
