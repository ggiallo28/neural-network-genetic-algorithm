{
 "cells": [
  {
   "cell_type": "code",
   "execution_count": null,
   "metadata": {},
   "outputs": [],
   "source": [
    "#!/usr/bin/env python\n",
    "\n",
    "from Coach import Coach\n",
    "from games.tictactoe.TicTacToeGame import TicTacToeGame as Game\n",
    "from games.tictactoe.mxnet.NNet import NNetWrapper as nn\n",
    "from utils import *\n",
    "import numpy\n",
    "import GA\n",
    "from random import shuffle\n",
    "import math\n",
    "import os\n",
    "\n",
    "train_examples_file_name = \"checkpoint.examples\"\n",
    "\n",
    "# These are the paths to where SageMaker mounts interesting things in your container.\n",
    "\n",
    "prefix = '/opt/ml/'\n",
    "channel_name='training'\n",
    "model_path = os.path.join(prefix, 'model')\n",
    "param_path = os.path.join(prefix, 'io/config/hyperparameters.json')\n",
    "input_path = output_path = os.path.join(prefix + 'io/data', channel_name)\n",
    "\n",
    "# Read in any hyperparameters that the user passed with the training job\n",
    "if os.path.isfile(param_path):\n",
    "    with open(param_path, 'r') as tc:\n",
    "        args = dotdict(json.load(tc))\n",
    "\n",
    "args = dotdict({\n",
    "    'numIters': 2,\n",
    "    'numEps': 20,\n",
    "    'tempThreshold': 15,\n",
    "    'updateThreshold': 0.6,\n",
    "    'maxlenOfQueue': 200000,\n",
    "    'numMCTSSims': 25,\n",
    "    'arenaCompare': 4,\n",
    "    'cpuct': 1,\n",
    "\n",
    "    'checkpoint': './temp/',\n",
    "    'load_model': False,\n",
    "    'load_folder_file': ('/dev/models/8x100x50','best.pth.tar'),\n",
    "    'numItersForTrainExamplesHistory': 7,\n",
    "})"
   ]
  },
  {
   "cell_type": "code",
   "execution_count": null,
   "metadata": {},
   "outputs": [],
   "source": [
    "sol_per_pop = 6\n",
    "num_parents = 3\n",
    "num_generations = 20\n",
    "\n",
    "\"\"\"\n",
    "Creating the initial population.\n",
    "    Generate population from scratch if there is no checkpoint,\n",
    "    or load population from file.\n",
    "\"\"\"\n",
    "#\n",
    "input_model_files = [ [model_path, file] for file in os.listdir(model_path) ]\n",
    "input_model_files.sort()\n",
    "game = Game()"
   ]
  },
  {
   "cell_type": "code",
   "execution_count": null,
   "metadata": {},
   "outputs": [],
   "source": [
    "from games.tictactoe.mxnet.TicTacToeNNet import TicTacToeNNet as onnet\n",
    "args2 = dotdict({\n",
    "    'lr': 0.001,\n",
    "    'dropout': 0.3,\n",
    "    'epochs': 1,\n",
    "    'batch_size': 64,\n",
    "    'cuda': False,\n",
    "    'num_channels': 512,\n",
    "})\n",
    "z = onnet(game, args2)\n",
    "from mxnet import nd\n",
    "z.predict(nd.zeros((1,3,3)))"
   ]
  },
  {
   "cell_type": "code",
   "execution_count": null,
   "metadata": {},
   "outputs": [],
   "source": [
    "new_population = []\n",
    "if len(input_model_files) == 0:\n",
    "    for i in range(0,sol_per_pop):\n",
    "        new_population.append(nn(game))\n",
    "else:\n",
    "    print(\"Checkpoint File found. Read it.\")\n",
    "    sol_per_pop = len(input_model_files)\n",
    "    for load_model_file in input_model_files:\n",
    "        print(os.path.join(load_model_file[0], load_model_file[1]))\n",
    "        nnet = nn(game)\n",
    "        nnet.load_checkpoint(load_model_file[0], load_model_file[1])\n",
    "        new_population.append(nnet)"
   ]
  },
  {
   "cell_type": "code",
   "execution_count": null,
   "metadata": {},
   "outputs": [],
   "source": [
    "\"\"\"\n",
    "Creating Coach class used to generate Training Example\n",
    "    Load Train Example History if exist\n",
    "\"\"\"\n",
    "master = Coach(Game(), args)\n",
    "examples_file_path = os.path.join(input_path, train_examples_file_name)\n",
    "if os.path.isfile(examples_file_path) :\n",
    "    print(os.path.join(examples_file_path))\n",
    "    master.loadTrainExamples(examples_file_path)\n",
    "alpha_index = 0\n",
    "\"\"\"\n",
    "Start Genetic Algorithm\n",
    "\"\"\"\n",
    "ancestors = list(range(0,sol_per_pop))"
   ]
  },
  {
   "cell_type": "code",
   "execution_count": null,
   "metadata": {},
   "outputs": [],
   "source": [
    "from games.tictactoe.TicTacToeLogic import Board\n",
    "Board(3)[0][0][0].asscalar()==0"
   ]
  },
  {
   "cell_type": "code",
   "execution_count": null,
   "metadata": {},
   "outputs": [],
   "source": [
    "board = game.getInitBoard()\n",
    "print(board)"
   ]
  },
  {
   "cell_type": "code",
   "execution_count": null,
   "metadata": {},
   "outputs": [],
   "source": [
    "Ps,v = z.predict(board)\n",
    "valids = game.getValidMoves(board, 1)\n",
    "Ps = Ps*valids  \n",
    "import numpy as np\n",
    "print(np.sum(Ps.asnumpy()))\n",
    "from mxnet import nd\n",
    "print(nd.sum(Ps))\n",
    "for a in range(game.getActionSize()):\n",
    "    print(a)"
   ]
  },
  {
   "cell_type": "code",
   "execution_count": null,
   "metadata": {},
   "outputs": [],
   "source": [
    "def flipud(x):\n",
    "    return nd.flip(data=x, axis=0)\n",
    "\n",
    "def fliplr(x):\n",
    "    return nd.flip(data=x, axis=1)\n",
    "\n",
    "def rot90(x, k):\n",
    "    k = k%4\n",
    "    if k == 0:\n",
    "        return x\n",
    "    if k == 1:\n",
    "        y = flipud(nd.transpose(x))\n",
    "    if k == 2:\n",
    "        y = flipud(fliplr(x))\n",
    "    if k == 3:\n",
    "        y = nd.transpose(flipud(x))\n",
    "    return y\n",
    "\n",
    "pi = nd.array([0.,0.125,0.16666667,0.08333334,0.08333334,0.125,0.08333334,0.16666667,0.16666667,0.])\n",
    "pi_board = nd.random.uniform(shape=(3,3))\n",
    "pi_numpy = pi_board.asnumpy()\n",
    "k = 11\n",
    "print(pi_board)\n",
    "print(\"NDArray\")\n",
    "rnd = rot90(pi_board,k)\n",
    "print(rnd.asnumpy())\n",
    "print(rnd.reshape((9)))\n",
    "print(\"Numpy\")\n",
    "rnu = np.rot90(pi_numpy,k)\n",
    "print(rnu)\n",
    "print(rnu.ravel())\n",
    "\n",
    "nd.concat(rnd.reshape((9)), pi[-1], dim=0)"
   ]
  },
  {
   "cell_type": "code",
   "execution_count": null,
   "metadata": {},
   "outputs": [],
   "source": [
    "alpha_padawan = new_population[alpha_index]\n",
    "train_examples = master.generate(alpha_padawan)"
   ]
  },
  {
   "cell_type": "code",
   "execution_count": null,
   "metadata": {},
   "outputs": [],
   "source": []
  }
 ],
 "metadata": {
  "kernelspec": {
   "display_name": "Python 3",
   "language": "python",
   "name": "python3"
  },
  "language_info": {
   "codemirror_mode": {
    "name": "ipython",
    "version": 3
   },
   "file_extension": ".py",
   "mimetype": "text/x-python",
   "name": "python",
   "nbconvert_exporter": "python",
   "pygments_lexer": "ipython3",
   "version": "3.6.7"
  }
 },
 "nbformat": 4,
 "nbformat_minor": 2
}
